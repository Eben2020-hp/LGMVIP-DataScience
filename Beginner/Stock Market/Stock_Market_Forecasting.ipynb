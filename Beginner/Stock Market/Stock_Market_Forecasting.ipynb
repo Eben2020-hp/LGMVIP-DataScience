{
  "nbformat": 4,
  "nbformat_minor": 2,
  "metadata": {
    "orig_nbformat": 4,
    "language_info": {
      "name": "python",
      "version": "3.8.10",
      "mimetype": "text/x-python",
      "codemirror_mode": {
        "name": "ipython",
        "version": 3
      },
      "pygments_lexer": "ipython3",
      "nbconvert_exporter": "python",
      "file_extension": ".py"
    },
    "kernelspec": {
      "name": "python3",
      "display_name": "Python 3.8.10 64-bit ('base': conda)"
    },
    "interpreter": {
      "hash": "a6c8cccf23fc189a51b8b2ae4ca3b98de763e12cce4f9033fe8d82721c91cecc"
    },
    "colab": {
      "name": "Stock_Market_Forecasting.ipynb",
      "provenance": [],
      "collapsed_sections": []
    }
  },
  "cells": [
    {
      "cell_type": "markdown",
      "source": [
        "<h1 align= 'center'> Stock Market Prediction and Forecasting </h1>\n",
        "<h3 align= 'center'> We will be using Stacked LSTM </h3>"
      ],
      "metadata": {
        "id": "cSZgeXfVZmAf"
      }
    },
    {
      "cell_type": "markdown",
      "source": [
        "## <b>Introduction</b>\n",
        "\n",
        "<p>\n",
        "Stock market prediction is the act of trying to determine the future value of a company stock or other financial instrument traded on an exchange. The successful prediction of a stock's future price could yield significant profit. The efficient-market hypothesis suggests that stock prices reflect all currently available information and any price changes that are not based on newly revealed information thus are inherently unpredictable.\n",
        "</p>\n",
        "<br></br>\n",
        "\n",
        "## <b>History</b>\n",
        "\n",
        "<p>\n",
        "We humans have the ability to understand a particular situation and then predict the outcome that might occur. The Traditional Neural Networks are not able to do that and this is a major shortcoming. For example, imagine you want to classify what kind of event is happening at every point in a movie. It’s unclear how a traditional neural network could use its reasoning about previous events in the film to inform later ones.\n",
        "</p>\n",
        "\n",
        "This is where Recurrent Neural Networks comes into play.They are networks with loops in them, allowing information to persist.\n",
        "\n",
        "<div align= 'center'>\n",
        "    <img src=\"https://colah.github.io/posts/2015-08-Understanding-LSTMs/img/RNN-rolled.png\" width=\"100\" height=\"200\"/> \n",
        "</div>\n",
        "\n",
        "These loops make recurrent neural networks seem kind of mysterious. However, if you think a bit more, it turns out that they aren’t all that different than a normal neural network. A recurrent neural network can be thought of as multiple copies of the same network, each passing a message to a successor. Consider what happens if we unroll the loop:\n",
        "\n",
        "<div align= 'center'>\n",
        "    <img src=\"https://colah.github.io/posts/2015-08-Understanding-LSTMs/img/RNN-unrolled.png\" width=\"500\" height=\"200\"/> \n",
        "</div>\n",
        "\n",
        "<br></br>\n",
        "\n",
        "### <b>The Problem of Long-Term Dependencies</b>\n",
        "\n",
        "<p>\n",
        "One of the appeals of RNNs is the idea that they might be able to connect previous information to the present task, such as using previous video frames might inform the understanding of the present frame. If RNNs could do this, they’d be extremely useful. But can they? It depends.\n",
        "\n",
        "Sometimes, we only need to look at recent information to perform the present task. For example, consider a language model trying to predict the next word based on the previous ones. If we are trying to predict the last word in “the clouds are in the sky,” we don’t need any further context – it’s pretty obvious the next word is going to be sky. In such cases, where the gap between the relevant information and the place that it’s needed is small, RNNs can learn to use the past information.\n",
        "</p>\n",
        "\n",
        "<div align= 'center'>\n",
        "    <img src=\"https://colah.github.io/posts/2015-08-Understanding-LSTMs/img/RNN-shorttermdepdencies.png\" width=\"600\" height=\"200\"/> \n",
        "</div>\n",
        "\n",
        "<p>\n",
        "But there are also cases where we need more context. Consider trying to predict the last word in the text “I grew up in France… I speak fluent French.” Recent information suggests that the next word is probably the name of a language, but if we want to narrow down which language, we need the context of France, from further back. It’s entirely possible for the gap between the relevant information and the point where it is needed to become very large.\n",
        "\n",
        "Unfortunately, as that gap grows, RNNs become unable to learn to connect the information.\n",
        "</p>\n",
        "\n",
        "<div align= 'center'>\n",
        "    <img src=\"https://colah.github.io/posts/2015-08-Understanding-LSTMs/img/RNN-longtermdependencies.png\" width=\"600\" height=\"200\"/> \n",
        "</div>\n",
        "\n",
        "Thankfully, LSTMs don’t have this problem!\n",
        "\n",
        "<br></br>\n",
        "\n",
        "## <b>LSTM Networks</b>\n",
        "\n",
        "Long Short Term Memory networks – usually just called “LSTMs” – are a special kind of RNN, capable of learning long-term dependencies. They were introduced by Hochreiter & Schmidhuber (1997), and were refined and popularized by many people in following work.1 They work tremendously well on a large variety of problems, and are now widely used.\n",
        "\n",
        "LSTMs have a chain like structure, but the repeating module has a different structure. Instead of having a single neural network layer (link RNN), there are four, interacting in a very special way.\n",
        "\n",
        "<div align= 'center'>\n",
        "    <img src=\"https://colah.github.io/posts/2015-08-Understanding-LSTMs/img/LSTM3-chain.png\" width=\"600\" height=\"200\"/> \n",
        "</div>\n",
        "\n",
        "LSTMs are explicitly designed to avoid the long-term dependency problem. Remembering information for long periods of time is practically their default behavior, not something they struggle to learn!\n",
        "\n",
        "<br></br>\n",
        "<br></br>\n",
        "\n",
        "### <b>In this notebook we will be using the Stacked LSTM model. This is simply multiple LSTMs stacked together one on top of another, to provide a better result and to capture even more complex patterns.</b>\n",
        "\n",
        "<div align= 'center'>\n",
        "    <img src=\"https://machinelearningmastery.com/wp-content/uploads/2017/07/architecture_stacked_lstm.png\"/> \n",
        "</div>\n",
        "\n",
        "---\n",
        "---"
      ],
      "metadata": {
        "id": "Qfchsqz5ZmAu"
      }
    },
    {
      "cell_type": "markdown",
      "source": [
        "## 0. Import relevant Dependencies\n",
        "\n",
        "Incase you are getting any error saying the package is not installed while running the below cell, then you can use two methods:\n",
        "- pip install ________.\n",
        "- google 'How to install ________'."
      ],
      "metadata": {
        "id": "XvRPUHoyZmAz"
      }
    },
    {
      "cell_type": "code",
      "execution_count": 2,
      "source": [
        "# Import Dependencies -To see the graphs in the notebook.\r\n",
        "%matplotlib inline   \r\n",
        "\r\n",
        "# Python Imports\r\n",
        "import math,time,random,datetime\r\n",
        "\r\n",
        "# Data Manipulation\r\n",
        "import numpy as np\r\n",
        "import pandas as pd\r\n",
        "\r\n",
        "# Visualization -This is where the graphs come in.\r\n",
        "import matplotlib.pyplot as plt\r\n",
        "plt.style.use('ggplot')\r\n",
        "\r\n",
        "# Ignore Warnings\r\n",
        "import warnings\r\n",
        "warnings.filterwarnings('ignore')"
      ],
      "outputs": [],
      "metadata": {
        "id": "ek6WP0G5ZmA4"
      }
    },
    {
      "cell_type": "markdown",
      "source": [
        "## 1. Loading the Required Data"
      ],
      "metadata": {
        "id": "btmFbuP-ZmA8"
      }
    },
    {
      "cell_type": "code",
      "execution_count": 3,
      "source": [
        "# Importing & Viewing the data.\r\n",
        "df = pd.read_csv('NSE.csv')\r\n",
        "df.head()"
      ],
      "outputs": [
        {
          "output_type": "execute_result",
          "data": {
            "text/html": [
              "<div>\n",
              "<style scoped>\n",
              "    .dataframe tbody tr th:only-of-type {\n",
              "        vertical-align: middle;\n",
              "    }\n",
              "\n",
              "    .dataframe tbody tr th {\n",
              "        vertical-align: top;\n",
              "    }\n",
              "\n",
              "    .dataframe thead th {\n",
              "        text-align: right;\n",
              "    }\n",
              "</style>\n",
              "<table border=\"1\" class=\"dataframe\">\n",
              "  <thead>\n",
              "    <tr style=\"text-align: right;\">\n",
              "      <th></th>\n",
              "      <th>Date</th>\n",
              "      <th>Open</th>\n",
              "      <th>High</th>\n",
              "      <th>Low</th>\n",
              "      <th>Last</th>\n",
              "      <th>Close</th>\n",
              "      <th>Total Trade Quantity</th>\n",
              "      <th>Turnover (Lacs)</th>\n",
              "    </tr>\n",
              "  </thead>\n",
              "  <tbody>\n",
              "    <tr>\n",
              "      <th>0</th>\n",
              "      <td>2018-09-28</td>\n",
              "      <td>234.05</td>\n",
              "      <td>235.95</td>\n",
              "      <td>230.20</td>\n",
              "      <td>233.50</td>\n",
              "      <td>233.75</td>\n",
              "      <td>3069914</td>\n",
              "      <td>7162.35</td>\n",
              "    </tr>\n",
              "    <tr>\n",
              "      <th>1</th>\n",
              "      <td>2018-09-27</td>\n",
              "      <td>234.55</td>\n",
              "      <td>236.80</td>\n",
              "      <td>231.10</td>\n",
              "      <td>233.80</td>\n",
              "      <td>233.25</td>\n",
              "      <td>5082859</td>\n",
              "      <td>11859.95</td>\n",
              "    </tr>\n",
              "    <tr>\n",
              "      <th>2</th>\n",
              "      <td>2018-09-26</td>\n",
              "      <td>240.00</td>\n",
              "      <td>240.00</td>\n",
              "      <td>232.50</td>\n",
              "      <td>235.00</td>\n",
              "      <td>234.25</td>\n",
              "      <td>2240909</td>\n",
              "      <td>5248.60</td>\n",
              "    </tr>\n",
              "    <tr>\n",
              "      <th>3</th>\n",
              "      <td>2018-09-25</td>\n",
              "      <td>233.30</td>\n",
              "      <td>236.75</td>\n",
              "      <td>232.00</td>\n",
              "      <td>236.25</td>\n",
              "      <td>236.10</td>\n",
              "      <td>2349368</td>\n",
              "      <td>5503.90</td>\n",
              "    </tr>\n",
              "    <tr>\n",
              "      <th>4</th>\n",
              "      <td>2018-09-24</td>\n",
              "      <td>233.55</td>\n",
              "      <td>239.20</td>\n",
              "      <td>230.75</td>\n",
              "      <td>234.00</td>\n",
              "      <td>233.30</td>\n",
              "      <td>3423509</td>\n",
              "      <td>7999.55</td>\n",
              "    </tr>\n",
              "  </tbody>\n",
              "</table>\n",
              "</div>"
            ],
            "text/plain": [
              "         Date    Open    High  ...   Close  Total Trade Quantity  Turnover (Lacs)\n",
              "0  2018-09-28  234.05  235.95  ...  233.75               3069914          7162.35\n",
              "1  2018-09-27  234.55  236.80  ...  233.25               5082859         11859.95\n",
              "2  2018-09-26  240.00  240.00  ...  234.25               2240909          5248.60\n",
              "3  2018-09-25  233.30  236.75  ...  236.10               2349368          5503.90\n",
              "4  2018-09-24  233.55  239.20  ...  233.30               3423509          7999.55\n",
              "\n",
              "[5 rows x 8 columns]"
            ]
          },
          "metadata": {},
          "execution_count": 3
        }
      ],
      "metadata": {
        "colab": {
          "base_uri": "https://localhost:8080/",
          "height": 203
        },
        "id": "Z_os4sXWZmA_",
        "outputId": "f308b8f2-370b-42b8-a104-a9af15929c99"
      }
    },
    {
      "cell_type": "code",
      "execution_count": 4,
      "source": [
        "print(\"Dimensionality of the dataset: \", df.shape)"
      ],
      "outputs": [
        {
          "output_type": "stream",
          "name": "stdout",
          "text": [
            "Dimensionality of the dataset:  (2035, 8)\n"
          ]
        }
      ],
      "metadata": {
        "colab": {
          "base_uri": "https://localhost:8080/"
        },
        "id": "WJ5-Z90QZmBE",
        "outputId": "22814166-7b19-4cf6-cffe-ca6e3b59935c"
      }
    },
    {
      "cell_type": "markdown",
      "source": [
        "## 2. Preprocess the Data"
      ],
      "metadata": {
        "id": "oYODuFGWZmBH"
      }
    },
    {
      "cell_type": "code",
      "execution_count": 5,
      "source": [
        "df.tail()"
      ],
      "outputs": [
        {
          "output_type": "execute_result",
          "data": {
            "text/html": [
              "<div>\n",
              "<style scoped>\n",
              "    .dataframe tbody tr th:only-of-type {\n",
              "        vertical-align: middle;\n",
              "    }\n",
              "\n",
              "    .dataframe tbody tr th {\n",
              "        vertical-align: top;\n",
              "    }\n",
              "\n",
              "    .dataframe thead th {\n",
              "        text-align: right;\n",
              "    }\n",
              "</style>\n",
              "<table border=\"1\" class=\"dataframe\">\n",
              "  <thead>\n",
              "    <tr style=\"text-align: right;\">\n",
              "      <th></th>\n",
              "      <th>Date</th>\n",
              "      <th>Open</th>\n",
              "      <th>High</th>\n",
              "      <th>Low</th>\n",
              "      <th>Last</th>\n",
              "      <th>Close</th>\n",
              "      <th>Total Trade Quantity</th>\n",
              "      <th>Turnover (Lacs)</th>\n",
              "    </tr>\n",
              "  </thead>\n",
              "  <tbody>\n",
              "    <tr>\n",
              "      <th>2030</th>\n",
              "      <td>2010-07-27</td>\n",
              "      <td>117.6</td>\n",
              "      <td>119.50</td>\n",
              "      <td>112.00</td>\n",
              "      <td>118.80</td>\n",
              "      <td>118.65</td>\n",
              "      <td>586100</td>\n",
              "      <td>694.98</td>\n",
              "    </tr>\n",
              "    <tr>\n",
              "      <th>2031</th>\n",
              "      <td>2010-07-26</td>\n",
              "      <td>120.1</td>\n",
              "      <td>121.00</td>\n",
              "      <td>117.10</td>\n",
              "      <td>117.10</td>\n",
              "      <td>117.60</td>\n",
              "      <td>658440</td>\n",
              "      <td>780.01</td>\n",
              "    </tr>\n",
              "    <tr>\n",
              "      <th>2032</th>\n",
              "      <td>2010-07-23</td>\n",
              "      <td>121.8</td>\n",
              "      <td>121.95</td>\n",
              "      <td>120.25</td>\n",
              "      <td>120.35</td>\n",
              "      <td>120.65</td>\n",
              "      <td>281312</td>\n",
              "      <td>340.31</td>\n",
              "    </tr>\n",
              "    <tr>\n",
              "      <th>2033</th>\n",
              "      <td>2010-07-22</td>\n",
              "      <td>120.3</td>\n",
              "      <td>122.00</td>\n",
              "      <td>120.25</td>\n",
              "      <td>120.75</td>\n",
              "      <td>120.90</td>\n",
              "      <td>293312</td>\n",
              "      <td>355.17</td>\n",
              "    </tr>\n",
              "    <tr>\n",
              "      <th>2034</th>\n",
              "      <td>2010-07-21</td>\n",
              "      <td>122.1</td>\n",
              "      <td>123.00</td>\n",
              "      <td>121.05</td>\n",
              "      <td>121.10</td>\n",
              "      <td>121.55</td>\n",
              "      <td>658666</td>\n",
              "      <td>803.56</td>\n",
              "    </tr>\n",
              "  </tbody>\n",
              "</table>\n",
              "</div>"
            ],
            "text/plain": [
              "            Date   Open    High  ...   Close  Total Trade Quantity  Turnover (Lacs)\n",
              "2030  2010-07-27  117.6  119.50  ...  118.65                586100           694.98\n",
              "2031  2010-07-26  120.1  121.00  ...  117.60                658440           780.01\n",
              "2032  2010-07-23  121.8  121.95  ...  120.65                281312           340.31\n",
              "2033  2010-07-22  120.3  122.00  ...  120.90                293312           355.17\n",
              "2034  2010-07-21  122.1  123.00  ...  121.55                658666           803.56\n",
              "\n",
              "[5 rows x 8 columns]"
            ]
          },
          "metadata": {},
          "execution_count": 5
        }
      ],
      "metadata": {
        "colab": {
          "base_uri": "https://localhost:8080/",
          "height": 203
        },
        "id": "XcvAWjV9ZmBJ",
        "outputId": "f7971500-87a5-4bfb-dc88-db8de6dbea1c"
      }
    },
    {
      "cell_type": "markdown",
      "source": [
        "- We can see that our data has date from 2010 - 2018. But it should be noted that this data is in a descending order (i.e 2018 - 2010). We will be dealing with this as it will then make the process easier.  "
      ],
      "metadata": {
        "id": "pr1nrH_pZmBL"
      }
    },
    {
      "cell_type": "markdown",
      "source": [
        "### What Datatypes are there in the dataframe?\n",
        "\n",
        "We usually consider features with a datatype of object as categorical features. And those with float or int could be numerical features.\n",
        "\n",
        "However, sometimes the features that we consider as numerical might actually turn out to be categorical."
      ],
      "metadata": {
        "id": "fJKGdqLgZmBN"
      }
    },
    {
      "cell_type": "code",
      "execution_count": 6,
      "source": [
        "df.dtypes"
      ],
      "outputs": [
        {
          "output_type": "execute_result",
          "data": {
            "text/plain": [
              "Date                     object\n",
              "Open                    float64\n",
              "High                    float64\n",
              "Low                     float64\n",
              "Last                    float64\n",
              "Close                   float64\n",
              "Total Trade Quantity      int64\n",
              "Turnover (Lacs)         float64\n",
              "dtype: object"
            ]
          },
          "metadata": {},
          "execution_count": 6
        }
      ],
      "metadata": {
        "colab": {
          "base_uri": "https://localhost:8080/"
        },
        "id": "Fa1a17jhZmBP",
        "outputId": "352d9dc7-3a00-458c-a9ae-2c92c3d083e7"
      }
    },
    {
      "cell_type": "markdown",
      "source": [
        "- Here it is to be noted thst the Date column is not in datetime format."
      ],
      "metadata": {
        "id": "ZxoW6gIfZmBR"
      }
    },
    {
      "cell_type": "code",
      "execution_count": 7,
      "source": [
        "# Converting the 'Date' Column to datetime\r\n",
        "df[\"Date\"] = pd.to_datetime(df[\"Date\"])\r\n",
        "\r\n",
        "# Sorting the data in ascending date form\r\n",
        "df = df.sort_values(by=\"Date\")\r\n",
        "df.head()"
      ],
      "outputs": [
        {
          "output_type": "execute_result",
          "data": {
            "text/html": [
              "<div>\n",
              "<style scoped>\n",
              "    .dataframe tbody tr th:only-of-type {\n",
              "        vertical-align: middle;\n",
              "    }\n",
              "\n",
              "    .dataframe tbody tr th {\n",
              "        vertical-align: top;\n",
              "    }\n",
              "\n",
              "    .dataframe thead th {\n",
              "        text-align: right;\n",
              "    }\n",
              "</style>\n",
              "<table border=\"1\" class=\"dataframe\">\n",
              "  <thead>\n",
              "    <tr style=\"text-align: right;\">\n",
              "      <th></th>\n",
              "      <th>Date</th>\n",
              "      <th>Open</th>\n",
              "      <th>High</th>\n",
              "      <th>Low</th>\n",
              "      <th>Last</th>\n",
              "      <th>Close</th>\n",
              "      <th>Total Trade Quantity</th>\n",
              "      <th>Turnover (Lacs)</th>\n",
              "    </tr>\n",
              "  </thead>\n",
              "  <tbody>\n",
              "    <tr>\n",
              "      <th>2034</th>\n",
              "      <td>2010-07-21</td>\n",
              "      <td>122.1</td>\n",
              "      <td>123.00</td>\n",
              "      <td>121.05</td>\n",
              "      <td>121.10</td>\n",
              "      <td>121.55</td>\n",
              "      <td>658666</td>\n",
              "      <td>803.56</td>\n",
              "    </tr>\n",
              "    <tr>\n",
              "      <th>2033</th>\n",
              "      <td>2010-07-22</td>\n",
              "      <td>120.3</td>\n",
              "      <td>122.00</td>\n",
              "      <td>120.25</td>\n",
              "      <td>120.75</td>\n",
              "      <td>120.90</td>\n",
              "      <td>293312</td>\n",
              "      <td>355.17</td>\n",
              "    </tr>\n",
              "    <tr>\n",
              "      <th>2032</th>\n",
              "      <td>2010-07-23</td>\n",
              "      <td>121.8</td>\n",
              "      <td>121.95</td>\n",
              "      <td>120.25</td>\n",
              "      <td>120.35</td>\n",
              "      <td>120.65</td>\n",
              "      <td>281312</td>\n",
              "      <td>340.31</td>\n",
              "    </tr>\n",
              "    <tr>\n",
              "      <th>2031</th>\n",
              "      <td>2010-07-26</td>\n",
              "      <td>120.1</td>\n",
              "      <td>121.00</td>\n",
              "      <td>117.10</td>\n",
              "      <td>117.10</td>\n",
              "      <td>117.60</td>\n",
              "      <td>658440</td>\n",
              "      <td>780.01</td>\n",
              "    </tr>\n",
              "    <tr>\n",
              "      <th>2030</th>\n",
              "      <td>2010-07-27</td>\n",
              "      <td>117.6</td>\n",
              "      <td>119.50</td>\n",
              "      <td>112.00</td>\n",
              "      <td>118.80</td>\n",
              "      <td>118.65</td>\n",
              "      <td>586100</td>\n",
              "      <td>694.98</td>\n",
              "    </tr>\n",
              "  </tbody>\n",
              "</table>\n",
              "</div>"
            ],
            "text/plain": [
              "           Date   Open    High  ...   Close  Total Trade Quantity  Turnover (Lacs)\n",
              "2034 2010-07-21  122.1  123.00  ...  121.55                658666           803.56\n",
              "2033 2010-07-22  120.3  122.00  ...  120.90                293312           355.17\n",
              "2032 2010-07-23  121.8  121.95  ...  120.65                281312           340.31\n",
              "2031 2010-07-26  120.1  121.00  ...  117.60                658440           780.01\n",
              "2030 2010-07-27  117.6  119.50  ...  118.65                586100           694.98\n",
              "\n",
              "[5 rows x 8 columns]"
            ]
          },
          "metadata": {},
          "execution_count": 7
        }
      ],
      "metadata": {
        "colab": {
          "base_uri": "https://localhost:8080/",
          "height": 203
        },
        "id": "dkMuMxPjZmBS",
        "outputId": "dcb96b8a-7c81-4c8d-b44d-917e810ab724"
      }
    },
    {
      "cell_type": "code",
      "execution_count": 8,
      "source": [
        "## Resetting the Index and Selecting only the Closing Price.\r\n",
        "df_Close = df.reset_index()['Close']\r\n",
        "df_Close.head()"
      ],
      "outputs": [
        {
          "output_type": "execute_result",
          "data": {
            "text/plain": [
              "0    121.55\n",
              "1    120.90\n",
              "2    120.65\n",
              "3    117.60\n",
              "4    118.65\n",
              "Name: Close, dtype: float64"
            ]
          },
          "metadata": {},
          "execution_count": 8
        }
      ],
      "metadata": {
        "colab": {
          "base_uri": "https://localhost:8080/"
        },
        "id": "grwk5tEAZmBU",
        "outputId": "a7685b9f-da82-4c17-bcbd-9f744ca772d1"
      }
    },
    {
      "cell_type": "code",
      "execution_count": 10,
      "source": [
        "# Visualizing the Closing Prices\r\n",
        "plt.plot(df_Close)"
      ],
      "outputs": [
        {
          "output_type": "execute_result",
          "data": {
            "text/plain": [
              "[<matplotlib.lines.Line2D at 0x7f5c99fe2750>]"
            ]
          },
          "metadata": {},
          "execution_count": 10
        },
        {
          "output_type": "display_data",
          "data": {
            "image/png": "[encoded data removed]",
            "text/plain": [
              "<Figure size 432x288 with 1 Axes>"
            ]
          },
          "metadata": {}
        }
      ],
      "metadata": {
        "colab": {
          "base_uri": "https://localhost:8080/",
          "height": 282
        },
        "id": "7l2kwUgyZmBV",
        "outputId": "f5f7c78a-5809-4929-f5b9-65e987b56e01"
      }
    },
    {
      "cell_type": "markdown",
      "source": [
        "- This is how our stock price looks like from 2010 - 2018. We can that there is an overall **Increasing Trend**. \n",
        "- We now need to scale the Data as LSTMs are sensetive to this matter. For this we will be using the MinMax Scaler."
      ],
      "metadata": {
        "id": "ezOxQjQGZmBW"
      }
    },
    {
      "cell_type": "markdown",
      "source": [
        "### Feature Scaling"
      ],
      "metadata": {
        "id": "ppZ2DyWdZmBY"
      }
    },
    {
      "cell_type": "code",
      "execution_count": 11,
      "source": [
        "from sklearn.preprocessing import MinMaxScaler\r\n",
        "scaler = MinMaxScaler(feature_range= (0,1))     ## Setting the range of values to be scaled between 0 and 1.as_integer_ratio\r\n",
        "\r\n",
        "df_Close = scaler.fit_transform(np.array(df_Close).reshape(-1,1))\r\n",
        "print(df_Close)"
      ],
      "outputs": [
        {
          "output_type": "stream",
          "name": "stdout",
          "text": [
            "[[0.16584967]\n",
            " [0.16319444]\n",
            " [0.1621732 ]\n",
            " ...\n",
            " [0.62622549]\n",
            " [0.62214052]\n",
            " [0.62418301]]\n"
          ]
        }
      ],
      "metadata": {
        "colab": {
          "base_uri": "https://localhost:8080/"
        },
        "id": "yKcikiXvZmBa",
        "outputId": "0ec3441b-07d1-49f9-b49b-e38940d0702c"
      }
    },
    {
      "cell_type": "markdown",
      "source": [
        "### Splitting the Dataset into Train and Test Data\n",
        "\n",
        "- In case of Time Series Data we will divide the data with respect to Date."
      ],
      "metadata": {
        "id": "fkqjBMJwZmBc"
      }
    },
    {
      "cell_type": "code",
      "execution_count": 12,
      "source": [
        "## Train and Test Data\r\n",
        "train_size = int(len(df_Close)*0.70)    ## Taking 70% of the Data as Train size.\r\n",
        "test_size = len(df_Close)-train_size    ## 30% Test size.\r\n",
        "\r\n",
        "train_data, test_data = df_Close[0:train_size,:], df_Close[train_size:len(df_Close),:]      ## Obtaining Train and Test Data."
      ],
      "outputs": [],
      "metadata": {
        "id": "BhVGgTBmZmBd"
      }
    },
    {
      "cell_type": "code",
      "execution_count": 13,
      "source": [
        "## Converting to Independent and Dependent Features (based on TimeSteps)\r\n",
        "def get_data(dataset, timestep= 1):\r\n",
        "    Xdata, ydata = [], []\r\n",
        "    for i in range(len(dataset) - timestep - 1):\r\n",
        "        a = dataset[i:(i + timestep), 0]        ## This will take all the data till \"i+timestep-1\"\r\n",
        "        Xdata.append(a)\r\n",
        "        ydata.append(dataset[i + timestep, 0])  ## Here we will obtain our Output.\r\n",
        "    return np.array(Xdata), np.array(ydata)"
      ],
      "outputs": [],
      "metadata": {
        "id": "yXtefJ5RZmBe"
      }
    },
    {
      "cell_type": "markdown",
      "source": [
        "In the above code we are dividing our data into train and test. The process is explained as an example in the image below.\r\n",
        "<br></br>\r\n",
        "<div align= 'center'>\r\n",
        "    <img src=\"https://user-images.githubusercontent.com/66016994/132118396-21e98e3f-bcfc-4431-9654-4566e548b742.png\" width=\"700\" height=\"200\"/> \r\n",
        "</div>"
      ],
      "metadata": {
        "id": "T09eiNWZZmBe"
      }
    },
    {
      "cell_type": "code",
      "execution_count": 14,
      "source": [
        "## Obtaining X_train, X_test, y_train and y_test\r\n",
        "timestep= 200\r\n",
        "X_train, y_train = get_data(train_data, timestep= timestep)\r\n",
        "X_test, y_test = get_data(test_data, timestep= timestep)"
      ],
      "outputs": [],
      "metadata": {
        "id": "vX_k-jBCZmBg"
      }
    },
    {
      "cell_type": "code",
      "execution_count": 15,
      "source": [
        "## Viewing the training Dataset\r\n",
        "print(X_train)\r\n",
        "print()\r\n",
        "print()\r\n",
        "print(y_train)"
      ],
      "outputs": [
        {
          "output_type": "stream",
          "name": "stdout",
          "text": [
            "[[0.16584967 0.16319444 0.1621732  ... 0.0692402  0.0629085  0.06781046]\n",
            " [0.16319444 0.1621732  0.14971405 ... 0.0629085  0.06781046 0.0684232 ]\n",
            " [0.1621732  0.14971405 0.15400327 ... 0.06781046 0.0684232  0.07700163]\n",
            " ...\n",
            " [0.20996732 0.21098856 0.21568627 ... 0.16441993 0.15236928 0.15482026]\n",
            " [0.21098856 0.21568627 0.22079248 ... 0.15236928 0.15482026 0.15420752]\n",
            " [0.21568627 0.22079248 0.21609477 ... 0.15482026 0.15420752 0.15012255]]\n",
            "\n",
            "\n",
            "[0.0684232  0.07700163 0.08088235 ... 0.15420752 0.15012255 0.15747549]\n"
          ]
        }
      ],
      "metadata": {
        "colab": {
          "base_uri": "https://localhost:8080/"
        },
        "id": "Gxxubu8gZmBh",
        "outputId": "03ac09e3-db56-4aae-8c2b-0eb29c772bac"
      }
    },
    {
      "cell_type": "code",
      "execution_count": 16,
      "source": [
        "print(X_train.shape), print(y_train.shape)"
      ],
      "outputs": [
        {
          "output_type": "stream",
          "name": "stdout",
          "text": [
            "(1223, 200)\n",
            "(1223,)\n"
          ]
        },
        {
          "output_type": "execute_result",
          "data": {
            "text/plain": [
              "(None, None)"
            ]
          },
          "metadata": {},
          "execution_count": 16
        }
      ],
      "metadata": {
        "colab": {
          "base_uri": "https://localhost:8080/"
        },
        "id": "V7Buy_4vZmBi",
        "outputId": "ca57925d-6936-4762-8854-e406c1a1f36d"
      }
    },
    {
      "cell_type": "markdown",
      "source": [
        "## 3. Creating a Stacked LSTM model"
      ],
      "metadata": {
        "id": "5RrcVp-TZmBj"
      }
    },
    {
      "cell_type": "code",
      "execution_count": 17,
      "source": [
        "## Reshape Input data to a 3-Dimensional data (i.e. (Observations, Timesteps) --> (Observations, Timesteps, Features)) \r\n",
        "## This process is very important before proceeding with the LSTM model.\r\n",
        "\r\n",
        "X_train = X_train.reshape(X_train.shape[0], X_train.shape[1], 1)\r\n",
        "X_test = X_test.reshape(X_test.shape[0], X_test.shape[1], 1)"
      ],
      "outputs": [],
      "metadata": {
        "id": "9zno07Z_ZmBk"
      }
    },
    {
      "cell_type": "code",
      "execution_count": 18,
      "source": [
        "from keras.models import Sequential\r\n",
        "from keras.layers import Dense, LSTM"
      ],
      "outputs": [],
      "metadata": {
        "id": "6g2lN0_OZmBk"
      }
    },
    {
      "cell_type": "code",
      "execution_count": 19,
      "source": [
        "## Create the LSTM Model\n",
        "model = Sequential()\n",
        "\n",
        "## Stacked LSTM model with 70 hidden layers.\n",
        "model.add(LSTM(70, return_sequences= True, input_shape= (200,1)))\n",
        "model.add(LSTM(70, return_sequences= True))\n",
        "model.add(LSTM(70, return_sequences= True))\n",
        "model.add(LSTM(70))\n",
        "\n",
        "## Output Layer\n",
        "model.add(Dense(1))"
      ],
      "outputs": [],
      "metadata": {
        "id": "MuAvbIFaZmBl"
      }
    },
    {
      "cell_type": "code",
      "execution_count": 20,
      "source": [
        "model.summary()"
      ],
      "outputs": [
        {
          "output_type": "stream",
          "name": "stdout",
          "text": [
            "Model: \"sequential\"\n",
            "_________________________________________________________________\n",
            "Layer (type)                 Output Shape              Param #   \n",
            "=================================================================\n",
            "lstm (LSTM)                  (None, 200, 70)           20160     \n",
            "_________________________________________________________________\n",
            "lstm_1 (LSTM)                (None, 200, 70)           39480     \n",
            "_________________________________________________________________\n",
            "lstm_2 (LSTM)                (None, 200, 70)           39480     \n",
            "_________________________________________________________________\n",
            "lstm_3 (LSTM)                (None, 70)                39480     \n",
            "_________________________________________________________________\n",
            "dense (Dense)                (None, 1)                 71        \n",
            "=================================================================\n",
            "Total params: 138,671\n",
            "Trainable params: 138,671\n",
            "Non-trainable params: 0\n",
            "_________________________________________________________________\n"
          ]
        }
      ],
      "metadata": {
        "colab": {
          "base_uri": "https://localhost:8080/"
        },
        "id": "830Z6OAHZmBm",
        "outputId": "4ac5d45a-5df8-4905-9bbc-73e512553395"
      }
    },
    {
      "cell_type": "code",
      "execution_count": 21,
      "source": [
        "## Compile the model\r\n",
        "model.compile(loss= 'mean_squared_error', optimizer= 'adam')"
      ],
      "outputs": [],
      "metadata": {
        "id": "8FgpEB5eZmBn"
      }
    },
    {
      "cell_type": "code",
      "execution_count": 22,
      "source": [
        "## Training Procedure\r\n",
        "model.fit(X_train, y_train, validation_data= (X_test, y_test), epochs= 100, batch_size= 64, verbose= 1)"
      ],
      "outputs": [
        {
          "output_type": "stream",
          "name": "stdout",
          "text": [
            "Epoch 1/100\n",
            "20/20 [==============================] - 22s 769ms/step - loss: 0.0110 - val_loss: 0.0321\n",
            "Epoch 2/100\n",
            "20/20 [==============================] - 14s 681ms/step - loss: 0.0021 - val_loss: 0.0130\n",
            "Epoch 3/100\n",
            "20/20 [==============================] - 14s 688ms/step - loss: 0.0012 - val_loss: 0.0085\n",
            "Epoch 4/100\n",
            "20/20 [==============================] - 14s 690ms/step - loss: 0.0011 - val_loss: 0.0086\n",
            "Epoch 5/100\n",
            "20/20 [==============================] - 14s 689ms/step - loss: 0.0011 - val_loss: 0.0082\n",
            "Epoch 6/100\n",
            "20/20 [==============================] - 14s 687ms/step - loss: 0.0010 - val_loss: 0.0077\n",
            "Epoch 7/100\n",
            "20/20 [==============================] - 14s 684ms/step - loss: 9.9956e-04 - val_loss: 0.0077\n",
            "Epoch 8/100\n",
            "20/20 [==============================] - 14s 687ms/step - loss: 9.3538e-04 - val_loss: 0.0075\n",
            "Epoch 9/100\n",
            "20/20 [==============================] - 14s 687ms/step - loss: 9.1084e-04 - val_loss: 0.0101\n",
            "Epoch 10/100\n",
            "20/20 [==============================] - 14s 694ms/step - loss: 9.2361e-04 - val_loss: 0.0071\n",
            "Epoch 11/100\n",
            "20/20 [==============================] - 14s 690ms/step - loss: 9.4339e-04 - val_loss: 0.0095\n",
            "Epoch 12/100\n",
            "20/20 [==============================] - 14s 690ms/step - loss: 8.2402e-04 - val_loss: 0.0134\n",
            "Epoch 13/100\n",
            "20/20 [==============================] - 14s 687ms/step - loss: 8.4208e-04 - val_loss: 0.0085\n",
            "Epoch 14/100\n",
            "20/20 [==============================] - 14s 692ms/step - loss: 8.2739e-04 - val_loss: 0.0108\n",
            "Epoch 15/100\n",
            "20/20 [==============================] - 14s 684ms/step - loss: 7.4773e-04 - val_loss: 0.0101\n",
            "Epoch 16/100\n",
            "20/20 [==============================] - 14s 690ms/step - loss: 7.7690e-04 - val_loss: 0.0197\n",
            "Epoch 17/100\n",
            "20/20 [==============================] - 14s 691ms/step - loss: 7.2099e-04 - val_loss: 0.0116\n",
            "Epoch 18/100\n",
            "20/20 [==============================] - 14s 688ms/step - loss: 7.0849e-04 - val_loss: 0.0195\n",
            "Epoch 19/100\n",
            "20/20 [==============================] - 14s 689ms/step - loss: 7.8529e-04 - val_loss: 0.0085\n",
            "Epoch 20/100\n",
            "20/20 [==============================] - 14s 684ms/step - loss: 6.8644e-04 - val_loss: 0.0122\n",
            "Epoch 21/100\n",
            "20/20 [==============================] - 14s 700ms/step - loss: 6.5413e-04 - val_loss: 0.0151\n",
            "Epoch 22/100\n",
            "20/20 [==============================] - 14s 696ms/step - loss: 7.4362e-04 - val_loss: 0.0104\n",
            "Epoch 23/100\n",
            "20/20 [==============================] - 14s 709ms/step - loss: 6.0454e-04 - val_loss: 0.0131\n",
            "Epoch 24/100\n",
            "20/20 [==============================] - 14s 684ms/step - loss: 6.3199e-04 - val_loss: 0.0065\n",
            "Epoch 25/100\n",
            "20/20 [==============================] - 14s 685ms/step - loss: 5.6913e-04 - val_loss: 0.0121\n",
            "Epoch 26/100\n",
            "20/20 [==============================] - 14s 683ms/step - loss: 5.5324e-04 - val_loss: 0.0145\n",
            "Epoch 27/100\n",
            "20/20 [==============================] - 14s 686ms/step - loss: 5.5091e-04 - val_loss: 0.0121\n",
            "Epoch 28/100\n",
            "20/20 [==============================] - 14s 686ms/step - loss: 5.7011e-04 - val_loss: 0.0090\n",
            "Epoch 29/100\n",
            "20/20 [==============================] - 14s 678ms/step - loss: 4.9149e-04 - val_loss: 0.0079\n",
            "Epoch 30/100\n",
            "20/20 [==============================] - 14s 686ms/step - loss: 5.1049e-04 - val_loss: 0.0072\n",
            "Epoch 31/100\n",
            "20/20 [==============================] - 14s 695ms/step - loss: 4.6308e-04 - val_loss: 0.0062\n",
            "Epoch 32/100\n",
            "20/20 [==============================] - 14s 689ms/step - loss: 4.6503e-04 - val_loss: 0.0073\n",
            "Epoch 33/100\n",
            "20/20 [==============================] - 14s 690ms/step - loss: 4.5410e-04 - val_loss: 0.0139\n",
            "Epoch 34/100\n",
            "20/20 [==============================] - 14s 689ms/step - loss: 5.5804e-04 - val_loss: 0.0047\n",
            "Epoch 35/100\n",
            "20/20 [==============================] - 14s 695ms/step - loss: 4.1489e-04 - val_loss: 0.0034\n",
            "Epoch 36/100\n",
            "20/20 [==============================] - 14s 683ms/step - loss: 4.3438e-04 - val_loss: 0.0140\n",
            "Epoch 37/100\n",
            "20/20 [==============================] - 14s 687ms/step - loss: 3.6647e-04 - val_loss: 0.0091\n",
            "Epoch 38/100\n",
            "20/20 [==============================] - 14s 687ms/step - loss: 3.6963e-04 - val_loss: 0.0026\n",
            "Epoch 39/100\n",
            "20/20 [==============================] - 14s 681ms/step - loss: 3.6264e-04 - val_loss: 0.0037\n",
            "Epoch 40/100\n",
            "20/20 [==============================] - 14s 694ms/step - loss: 3.2739e-04 - val_loss: 0.0064\n",
            "Epoch 41/100\n",
            "20/20 [==============================] - 14s 687ms/step - loss: 3.1947e-04 - val_loss: 0.0058\n",
            "Epoch 42/100\n",
            "20/20 [==============================] - 14s 691ms/step - loss: 3.0619e-04 - val_loss: 0.0045\n",
            "Epoch 43/100\n",
            "20/20 [==============================] - 14s 696ms/step - loss: 2.9972e-04 - val_loss: 0.0033\n",
            "Epoch 44/100\n",
            "20/20 [==============================] - 14s 704ms/step - loss: 2.8343e-04 - val_loss: 0.0027\n",
            "Epoch 45/100\n",
            "20/20 [==============================] - 14s 702ms/step - loss: 2.8776e-04 - val_loss: 0.0012\n",
            "Epoch 46/100\n",
            "20/20 [==============================] - 14s 685ms/step - loss: 2.9124e-04 - val_loss: 0.0021\n",
            "Epoch 47/100\n",
            "20/20 [==============================] - 14s 686ms/step - loss: 2.5814e-04 - val_loss: 0.0047\n",
            "Epoch 48/100\n",
            "20/20 [==============================] - 14s 683ms/step - loss: 2.6682e-04 - val_loss: 0.0069\n",
            "Epoch 49/100\n",
            "20/20 [==============================] - 14s 690ms/step - loss: 2.9833e-04 - val_loss: 0.0024\n",
            "Epoch 50/100\n",
            "20/20 [==============================] - 14s 683ms/step - loss: 2.3844e-04 - val_loss: 0.0015\n",
            "Epoch 51/100\n",
            "20/20 [==============================] - 14s 680ms/step - loss: 2.4540e-04 - val_loss: 0.0013\n",
            "Epoch 52/100\n",
            "20/20 [==============================] - 14s 683ms/step - loss: 2.1752e-04 - val_loss: 0.0021\n",
            "Epoch 53/100\n",
            "20/20 [==============================] - 14s 687ms/step - loss: 2.2278e-04 - val_loss: 0.0015\n",
            "Epoch 54/100\n",
            "20/20 [==============================] - 14s 686ms/step - loss: 2.0518e-04 - val_loss: 0.0016\n",
            "Epoch 55/100\n",
            "20/20 [==============================] - 14s 682ms/step - loss: 1.9186e-04 - val_loss: 0.0022\n",
            "Epoch 56/100\n",
            "20/20 [==============================] - 14s 692ms/step - loss: 1.9800e-04 - val_loss: 0.0011\n",
            "Epoch 57/100\n",
            "20/20 [==============================] - 14s 686ms/step - loss: 1.9262e-04 - val_loss: 0.0026\n",
            "Epoch 58/100\n",
            "20/20 [==============================] - 14s 686ms/step - loss: 1.8045e-04 - val_loss: 5.7564e-04\n",
            "Epoch 59/100\n",
            "20/20 [==============================] - 14s 691ms/step - loss: 2.4691e-04 - val_loss: 6.5442e-04\n",
            "Epoch 60/100\n",
            "20/20 [==============================] - 14s 687ms/step - loss: 2.7164e-04 - val_loss: 0.0025\n",
            "Epoch 61/100\n",
            "20/20 [==============================] - 14s 681ms/step - loss: 2.0179e-04 - val_loss: 0.0053\n",
            "Epoch 62/100\n",
            "20/20 [==============================] - 14s 689ms/step - loss: 2.7573e-04 - val_loss: 0.0033\n",
            "Epoch 63/100\n",
            "20/20 [==============================] - 14s 679ms/step - loss: 1.6453e-04 - val_loss: 0.0012\n",
            "Epoch 64/100\n",
            "20/20 [==============================] - 14s 691ms/step - loss: 1.6328e-04 - val_loss: 0.0011\n",
            "Epoch 65/100\n",
            "20/20 [==============================] - 14s 687ms/step - loss: 1.5107e-04 - val_loss: 0.0016\n",
            "Epoch 66/100\n",
            "20/20 [==============================] - 14s 693ms/step - loss: 1.4887e-04 - val_loss: 0.0023\n",
            "Epoch 67/100\n",
            "20/20 [==============================] - 14s 695ms/step - loss: 1.5019e-04 - val_loss: 0.0018\n",
            "Epoch 68/100\n",
            "20/20 [==============================] - 14s 695ms/step - loss: 1.5592e-04 - val_loss: 0.0023\n",
            "Epoch 69/100\n",
            "20/20 [==============================] - 14s 691ms/step - loss: 1.4893e-04 - val_loss: 0.0022\n",
            "Epoch 70/100\n",
            "20/20 [==============================] - 14s 680ms/step - loss: 1.4874e-04 - val_loss: 0.0022\n",
            "Epoch 71/100\n",
            "20/20 [==============================] - 14s 682ms/step - loss: 1.4590e-04 - val_loss: 0.0016\n",
            "Epoch 72/100\n",
            "20/20 [==============================] - 14s 680ms/step - loss: 1.4579e-04 - val_loss: 0.0029\n",
            "Epoch 73/100\n",
            "20/20 [==============================] - 14s 683ms/step - loss: 1.4074e-04 - val_loss: 0.0023\n",
            "Epoch 74/100\n",
            "20/20 [==============================] - 14s 677ms/step - loss: 1.4856e-04 - val_loss: 0.0033\n",
            "Epoch 75/100\n",
            "20/20 [==============================] - 14s 685ms/step - loss: 1.3936e-04 - val_loss: 0.0031\n",
            "Epoch 76/100\n",
            "20/20 [==============================] - 14s 679ms/step - loss: 1.8973e-04 - val_loss: 0.0037\n",
            "Epoch 77/100\n",
            "20/20 [==============================] - 14s 678ms/step - loss: 1.6708e-04 - val_loss: 0.0029\n",
            "Epoch 78/100\n",
            "20/20 [==============================] - 14s 683ms/step - loss: 1.4469e-04 - val_loss: 0.0025\n",
            "Epoch 79/100\n",
            "20/20 [==============================] - 14s 681ms/step - loss: 1.8463e-04 - val_loss: 0.0027\n",
            "Epoch 80/100\n",
            "20/20 [==============================] - 14s 681ms/step - loss: 1.5444e-04 - val_loss: 0.0039\n",
            "Epoch 81/100\n",
            "20/20 [==============================] - 14s 683ms/step - loss: 1.5451e-04 - val_loss: 0.0042\n",
            "Epoch 82/100\n",
            "20/20 [==============================] - 14s 687ms/step - loss: 1.4003e-04 - val_loss: 0.0035\n",
            "Epoch 83/100\n",
            "20/20 [==============================] - 14s 687ms/step - loss: 1.3675e-04 - val_loss: 0.0033\n",
            "Epoch 84/100\n",
            "20/20 [==============================] - 14s 686ms/step - loss: 1.4062e-04 - val_loss: 0.0029\n",
            "Epoch 85/100\n",
            "20/20 [==============================] - 14s 682ms/step - loss: 1.4803e-04 - val_loss: 0.0034\n",
            "Epoch 86/100\n",
            "20/20 [==============================] - 14s 681ms/step - loss: 1.4784e-04 - val_loss: 0.0029\n",
            "Epoch 87/100\n",
            "20/20 [==============================] - 14s 682ms/step - loss: 1.5104e-04 - val_loss: 0.0030\n",
            "Epoch 88/100\n",
            "20/20 [==============================] - 14s 684ms/step - loss: 1.6801e-04 - val_loss: 0.0026\n",
            "Epoch 89/100\n",
            "20/20 [==============================] - 14s 688ms/step - loss: 1.3284e-04 - val_loss: 0.0031\n",
            "Epoch 90/100\n",
            "20/20 [==============================] - 14s 693ms/step - loss: 1.3652e-04 - val_loss: 0.0037\n",
            "Epoch 91/100\n",
            "20/20 [==============================] - 14s 687ms/step - loss: 1.4603e-04 - val_loss: 0.0050\n",
            "Epoch 92/100\n",
            "20/20 [==============================] - 14s 692ms/step - loss: 1.4165e-04 - val_loss: 0.0029\n",
            "Epoch 93/100\n",
            "20/20 [==============================] - 14s 688ms/step - loss: 1.3404e-04 - val_loss: 0.0030\n",
            "Epoch 94/100\n",
            "20/20 [==============================] - 14s 678ms/step - loss: 1.5058e-04 - val_loss: 0.0037\n",
            "Epoch 95/100\n",
            "20/20 [==============================] - 14s 681ms/step - loss: 1.3507e-04 - val_loss: 0.0034\n",
            "Epoch 96/100\n",
            "20/20 [==============================] - 14s 678ms/step - loss: 1.3144e-04 - val_loss: 0.0029\n",
            "Epoch 97/100\n",
            "20/20 [==============================] - 14s 683ms/step - loss: 1.3707e-04 - val_loss: 0.0034\n",
            "Epoch 98/100\n",
            "20/20 [==============================] - 14s 682ms/step - loss: 1.3290e-04 - val_loss: 0.0028\n",
            "Epoch 99/100\n",
            "20/20 [==============================] - 14s 676ms/step - loss: 1.4011e-04 - val_loss: 0.0035\n",
            "Epoch 100/100\n",
            "20/20 [==============================] - 14s 682ms/step - loss: 1.4596e-04 - val_loss: 0.0032\n"
          ]
        },
        {
          "output_type": "execute_result",
          "data": {
            "text/plain": [
              "<keras.callbacks.History at 0x7f5c45d74690>"
            ]
          },
          "metadata": {},
          "execution_count": 22
        }
      ],
      "metadata": {
        "colab": {
          "base_uri": "https://localhost:8080/"
        },
        "id": "ZFZftiC2ZmBo",
        "outputId": "b61157b4-9f61-481d-f50a-5b4e7970a2b1"
      }
    },
    {
      "cell_type": "markdown",
      "source": [
        "### Prediction on Train and Test Data\n",
        "\n",
        "This is because we need to find the performance Matrix."
      ],
      "metadata": {
        "id": "FQFm60rUb9BA"
      }
    },
    {
      "cell_type": "code",
      "execution_count": 23,
      "source": [
        "## Predictions\r\n",
        "ytrain_pred = model.predict(X_train)\r\n",
        "ytest_pred = model.predict(X_test)"
      ],
      "outputs": [],
      "metadata": {
        "id": "ij0qE4EnZmBp"
      }
    },
    {
      "cell_type": "code",
      "execution_count": 24,
      "source": [
        "## Transform back Scaled Data to Original Data\r\n",
        "ytrain_pred = scaler.inverse_transform(ytrain_pred)\r\n",
        "ytest_pred = scaler.inverse_transform(ytest_pred)"
      ],
      "outputs": [],
      "metadata": {
        "id": "MjKCz45PZmBp"
      }
    },
    {
      "cell_type": "markdown",
      "source": [
        "## 4. Model Results"
      ],
      "metadata": {
        "id": "ETHMV7eVdEPA"
      }
    },
    {
      "cell_type": "code",
      "execution_count": 25,
      "source": [
        "## Calculating the Root Mean Square Error (Train)\r\n",
        "from sklearn.metrics import mean_squared_error\r\n",
        "math.sqrt(mean_squared_error(y_train, ytrain_pred))"
      ],
      "outputs": [
        {
          "output_type": "execute_result",
          "data": {
            "text/plain": [
              "136.4985522574936"
            ]
          },
          "metadata": {},
          "execution_count": 25
        }
      ],
      "metadata": {
        "colab": {
          "base_uri": "https://localhost:8080/"
        },
        "id": "6fvlXDfDZmBp",
        "outputId": "87710a08-81e1-438f-d661-43b200a372c0"
      }
    },
    {
      "cell_type": "code",
      "execution_count": 26,
      "source": [
        "## Calculating the Root Mean Square Error (Test)\r\n",
        "from sklearn.metrics import mean_squared_error\r\n",
        "math.sqrt(mean_squared_error(y_test, ytest_pred))"
      ],
      "outputs": [
        {
          "output_type": "execute_result",
          "data": {
            "text/plain": [
              "223.66495625767024"
            ]
          },
          "metadata": {},
          "execution_count": 26
        }
      ],
      "metadata": {
        "colab": {
          "base_uri": "https://localhost:8080/"
        },
        "id": "Wyg-bLI4hoRD",
        "outputId": "8f63874c-da73-4851-9256-6a2264801477"
      }
    },
    {
      "cell_type": "markdown",
      "source": [
        "## 5. Visualization"
      ],
      "metadata": {
        "id": "4KllYbOrh1is"
      }
    },
    {
      "cell_type": "code",
      "execution_count": 40,
      "source": [
        "## Shift Train Predictions for Plotting\r\n",
        "timestep= 200\r\n",
        "TrainPredictPlot = np.empty_like(df_Close)\r\n",
        "TrainPredictPlot[:, :] = np.nan\r\n",
        "TrainPredictPlot[timestep: len(ytrain_pred) + timestep, :] = ytrain_pred\r\n",
        "\r\n",
        "## Shift Test Predictions for Plotting\r\n",
        "timestep= 200\r\n",
        "TestPredictPlot = np.empty_like(df_Close)\r\n",
        "TestPredictPlot[:, :] = np.nan\r\n",
        "TestPredictPlot[len(ytrain_pred) + (timestep*2) + 1:len(df_Close) - 1, :] = ytest_pred\r\n",
        "\r\n",
        "## Baseline and Predictions Plot\r\n",
        "plt.plot(scaler.inverse_transform(df_Close))\r\n",
        "plt.plot(TrainPredictPlot)\r\n",
        "plt.plot(TestPredictPlot)\r\n",
        "plt.show()"
      ],
      "outputs": [
        {
          "output_type": "display_data",
          "data": {
            "image/png": "[encoded data removed]",
            "text/plain": [
              "<Figure size 432x288 with 1 Axes>"
            ]
          },
          "metadata": {}
        }
      ],
      "metadata": {
        "colab": {
          "base_uri": "https://localhost:8080/",
          "height": 265
        },
        "id": "8b3e9REDhym7",
        "outputId": "aaa70507-b869-40f7-c23d-7cc9faf18229"
      }
    },
    {
      "cell_type": "markdown",
      "source": [
        "In the above plot: \n",
        "- **Red** represents the **Original Data**.\n",
        "- **Blue** Represents the **Predictions** made on the **Train Data**.\n",
        "- **Purple** Represents the **Predictions** made on the **Test Data**."
      ],
      "metadata": {
        "id": "HM6HWZIBlS07"
      }
    },
    {
      "cell_type": "markdown",
      "source": [
        "## 6. Future Predictions\n",
        "\n",
        "We will now be Predicting the Future 30 days and Plot the Output"
      ],
      "metadata": {
        "id": "PfPQvBDCmb7H"
      }
    },
    {
      "cell_type": "code",
      "execution_count": 97,
      "source": [
        "len(test_data), X_test.shape"
      ],
      "outputs": [
        {
          "output_type": "execute_result",
          "data": {
            "text/plain": [
              "(611, (410, 200, 1))"
            ]
          },
          "metadata": {},
          "execution_count": 97
        }
      ],
      "metadata": {
        "colab": {
          "base_uri": "https://localhost:8080/"
        },
        "id": "0V2EPjkMj3Js",
        "outputId": "d5508f1d-1722-4707-d08c-5370057ffcbf"
      }
    },
    {
      "cell_type": "code",
      "execution_count": 98,
      "source": [
        "## Selecting the Previous 200 Days to Predict the Next Day Closing Price\n",
        "Input_data = test_data[411:, :].reshape(1, -1)\n",
        "Input_data.shape"
      ],
      "outputs": [
        {
          "output_type": "execute_result",
          "data": {
            "text/plain": [
              "(1, 200)"
            ]
          },
          "metadata": {},
          "execution_count": 98
        }
      ],
      "metadata": {
        "colab": {
          "base_uri": "https://localhost:8080/"
        },
        "id": "m98S19zTmyR4",
        "outputId": "7722870a-c104-4a13-dbe9-32016271437b"
      }
    },
    {
      "cell_type": "code",
      "execution_count": 99,
      "source": [
        "Input_data"
      ],
      "outputs": [
        {
          "output_type": "execute_result",
          "data": {
            "text/plain": [
              "array([[0.84763072, 0.8880719 , 0.84497549, 0.83129085, 0.8306781 ,\n",
              "        0.84109477, 0.85743464, 0.89746732, 0.89828431, 0.89542484,\n",
              "        0.90604575, 0.91911765, 0.91748366, 0.92177288, 0.96180556,\n",
              "        0.94750817, 0.94035948, 0.94056373, 0.94485294, 0.94771242,\n",
              "        0.96670752, 0.95731209, 0.95241013, 0.94914216, 1.        ,\n",
              "        0.98876634, 0.96180556, 0.9501634 , 0.91707516, 0.92892157,\n",
              "        0.93096405, 0.92422386, 0.9121732 , 0.9121732 , 0.90216503,\n",
              "        0.91115196, 0.85661765, 0.84722222, 0.79207516, 0.78492647,\n",
              "        0.75878268, 0.81372549, 0.81495098, 0.80596405, 0.83394608,\n",
              "        0.82107843, 0.80923203, 0.79513889, 0.76388889, 0.74305556,\n",
              "        0.75837418, 0.74019608, 0.77512255, 0.78656046, 0.79268791,\n",
              "        0.79473039, 0.79207516, 0.79534314, 0.78921569, 0.76776961,\n",
              "        0.78615196, 0.76552288, 0.79697712, 0.8057598 , 0.80698529,\n",
              "        0.81147876, 0.78206699, 0.73386438, 0.73978758, 0.74448529,\n",
              "        0.72671569, 0.72283497, 0.74040033, 0.74693627, 0.72630719,\n",
              "        0.80065359, 0.79187092, 0.77328431, 0.78451797, 0.78329248,\n",
              "        0.80412582, 0.79473039, 0.7879902 , 0.7879902 , 0.79473039,\n",
              "        0.81168301, 0.81699346, 0.82986111, 0.83843954, 0.83884804,\n",
              "        0.82781863, 0.82598039, 0.85028595, 0.85886438, 0.86254085,\n",
              "        0.88480392, 0.86519608, 0.84027778, 0.84497549, 0.87111928,\n",
              "        0.85273693, 0.86213235, 0.83455882, 0.84375   , 0.71466503,\n",
              "        0.66053922, 0.65420752, 0.68035131, 0.6689134 , 0.66421569,\n",
              "        0.67892157, 0.69138072, 0.70894608, 0.72263072, 0.73406863,\n",
              "        0.72120098, 0.74979575, 0.7689951 , 0.74468954, 0.7120098 ,\n",
              "        0.74673203, 0.75490196, 0.76041667, 0.75980392, 0.74652778,\n",
              "        0.76245915, 0.77062908, 0.80412582, 0.78104575, 0.79411765,\n",
              "        0.76021242, 0.73488562, 0.72406046, 0.73999183, 0.74979575,\n",
              "        0.76143791, 0.75428922, 0.74754902, 0.76960784, 0.7495915 ,\n",
              "        0.81719771, 0.80208333, 0.77736928, 0.75714869, 0.79370915,\n",
              "        0.79166667, 0.77144608, 0.75265523, 0.72691993, 0.6629902 ,\n",
              "        0.68198529, 0.64419935, 0.62152778, 0.6439951 , 0.66319444,\n",
              "        0.67544935, 0.63705065, 0.64603758, 0.65890523, 0.65870098,\n",
              "        0.67790033, 0.63194444, 0.63112745, 0.62785948, 0.64767157,\n",
              "        0.63991013, 0.63480392, 0.63868464, 0.62336601, 0.62745098,\n",
              "        0.63970588, 0.64705882, 0.66196895, 0.67075163, 0.65196078,\n",
              "        0.63112745, 0.61294935, 0.6376634 , 0.62254902, 0.62745098,\n",
              "        0.63337418, 0.62642974, 0.63623366, 0.58312908, 0.57781863,\n",
              "        0.57230392, 0.58006536, 0.57618464, 0.55167484, 0.57883987,\n",
              "        0.625     , 0.63582516, 0.62949346, 0.62888072, 0.62765523,\n",
              "        0.62234477, 0.63378268, 0.62622549, 0.62214052, 0.62418301]])"
            ]
          },
          "metadata": {},
          "execution_count": 99
        }
      ],
      "metadata": {
        "colab": {
          "base_uri": "https://localhost:8080/"
        },
        "id": "SqxLhWL6ngyk",
        "outputId": "fd3abdf6-55a4-4cd3-d010-817f347836c3"
      }
    },
    {
      "cell_type": "code",
      "execution_count": 100,
      "source": [
        "## Converting Inputs to a List\r\n",
        "List_Input = list(Input_data)     ## Converts 2D array to a 1D array.\r\n",
        "List_Input = List_Input[0].tolist()   ## Converts 1D array to a list."
      ],
      "outputs": [],
      "metadata": {
        "id": "1gcD9ObXnu_B"
      }
    },
    {
      "cell_type": "code",
      "execution_count": 102,
      "source": [
        "## Prediction for next 30 days\r\n",
        "output = []\r\n",
        "n_steps = 200\r\n",
        "i = 0\r\n",
        "\r\n",
        "while (i<30):\r\n",
        "\r\n",
        "  if (len(List_Input) > 200):\r\n",
        "    Input_data = np.array(List_Input[1:])\r\n",
        "    print(f\"{i} day input {Input_data}\")\r\n",
        "    Input_data = Input_data.reshape(1, -1)\r\n",
        "    Input_data = Input_data.reshape((1, n_steps, 1))\r\n",
        "    ypred = model.predict(Input_data, verbose= 0)\r\n",
        "    print(f\"{i} day output {ypred}\")\r\n",
        "    \r\n",
        "    ## Adding Predicted value inside the Previous Data so as to have the extra elements for Future Prediction.\r\n",
        "    List_Input.extend(ypred[0].tolist())\r\n",
        "    List_Input = List_Input[1:]\r\n",
        "\r\n",
        "    ## Adding Predicted value inside the Output List\r\n",
        "    output.extend(ypred.tolist())                 \r\n",
        "    i = i + 1\r\n",
        "\r\n",
        "  else:\r\n",
        "    Input_data = Input_data.reshape((1, n_steps, 1))      ## Reshaping as LSTM requires 3D Data.\r\n",
        "    ypred = model.predict(Input_data, verbose= 0)\r\n",
        "    print(ypred[0])\r\n",
        "\r\n",
        "    List_Input.extend(ypred[0].tolist())\r\n",
        "    print(len(List_Input))\r\n",
        "\r\n",
        "    output.extend(ypred.tolist())               \r\n",
        "    i = i + 1\r\n",
        "\r\n",
        "print(output)"
      ],
      "outputs": [
        {
          "output_type": "stream",
          "name": "stdout",
          "text": [
            "[0.6066755]\n",
            "201\n",
            "1 day input [0.8880719  0.84497549 0.83129085 0.8306781  0.84109477 0.85743464\n",
            " 0.89746732 0.89828431 0.89542484 0.90604575 0.91911765 0.91748366\n",
            " 0.92177288 0.96180556 0.94750817 0.94035948 0.94056373 0.94485294\n",
            " 0.94771242 0.96670752 0.95731209 0.95241013 0.94914216 1.\n",
            " 0.98876634 0.96180556 0.9501634  0.91707516 0.92892157 0.93096405\n",
            " 0.92422386 0.9121732  0.9121732  0.90216503 0.91115196 0.85661765\n",
            " 0.84722222 0.79207516 0.78492647 0.75878268 0.81372549 0.81495098\n",
            " 0.80596405 0.83394608 0.82107843 0.80923203 0.79513889 0.76388889\n",
            " 0.74305556 0.75837418 0.74019608 0.77512255 0.78656046 0.79268791\n",
            " 0.79473039 0.79207516 0.79534314 0.78921569 0.76776961 0.78615196\n",
            " 0.76552288 0.79697712 0.8057598  0.80698529 0.81147876 0.78206699\n",
            " 0.73386438 0.73978758 0.74448529 0.72671569 0.72283497 0.74040033\n",
            " 0.74693627 0.72630719 0.80065359 0.79187092 0.77328431 0.78451797\n",
            " 0.78329248 0.80412582 0.79473039 0.7879902  0.7879902  0.79473039\n",
            " 0.81168301 0.81699346 0.82986111 0.83843954 0.83884804 0.82781863\n",
            " 0.82598039 0.85028595 0.85886438 0.86254085 0.88480392 0.86519608\n",
            " 0.84027778 0.84497549 0.87111928 0.85273693 0.86213235 0.83455882\n",
            " 0.84375    0.71466503 0.66053922 0.65420752 0.68035131 0.6689134\n",
            " 0.66421569 0.67892157 0.69138072 0.70894608 0.72263072 0.73406863\n",
            " 0.72120098 0.74979575 0.7689951  0.74468954 0.7120098  0.74673203\n",
            " 0.75490196 0.76041667 0.75980392 0.74652778 0.76245915 0.77062908\n",
            " 0.80412582 0.78104575 0.79411765 0.76021242 0.73488562 0.72406046\n",
            " 0.73999183 0.74979575 0.76143791 0.75428922 0.74754902 0.76960784\n",
            " 0.7495915  0.81719771 0.80208333 0.77736928 0.75714869 0.79370915\n",
            " 0.79166667 0.77144608 0.75265523 0.72691993 0.6629902  0.68198529\n",
            " 0.64419935 0.62152778 0.6439951  0.66319444 0.67544935 0.63705065\n",
            " 0.64603758 0.65890523 0.65870098 0.67790033 0.63194444 0.63112745\n",
            " 0.62785948 0.64767157 0.63991013 0.63480392 0.63868464 0.62336601\n",
            " 0.62745098 0.63970588 0.64705882 0.66196895 0.67075163 0.65196078\n",
            " 0.63112745 0.61294935 0.6376634  0.62254902 0.62745098 0.63337418\n",
            " 0.62642974 0.63623366 0.58312908 0.57781863 0.57230392 0.58006536\n",
            " 0.57618464 0.55167484 0.57883987 0.625      0.63582516 0.62949346\n",
            " 0.62888072 0.62765523 0.62234477 0.63378268 0.62622549 0.62214052\n",
            " 0.62418301 0.60667551]\n",
            "1 day output [[0.573579]]\n",
            "2 day input [0.84497549 0.83129085 0.8306781  0.84109477 0.85743464 0.89746732\n",
            " 0.89828431 0.89542484 0.90604575 0.91911765 0.91748366 0.92177288\n",
            " 0.96180556 0.94750817 0.94035948 0.94056373 0.94485294 0.94771242\n",
            " 0.96670752 0.95731209 0.95241013 0.94914216 1.         0.98876634\n",
            " 0.96180556 0.9501634  0.91707516 0.92892157 0.93096405 0.92422386\n",
            " 0.9121732  0.9121732  0.90216503 0.91115196 0.85661765 0.84722222\n",
            " 0.79207516 0.78492647 0.75878268 0.81372549 0.81495098 0.80596405\n",
            " 0.83394608 0.82107843 0.80923203 0.79513889 0.76388889 0.74305556\n",
            " 0.75837418 0.74019608 0.77512255 0.78656046 0.79268791 0.79473039\n",
            " 0.79207516 0.79534314 0.78921569 0.76776961 0.78615196 0.76552288\n",
            " 0.79697712 0.8057598  0.80698529 0.81147876 0.78206699 0.73386438\n",
            " 0.73978758 0.74448529 0.72671569 0.72283497 0.74040033 0.74693627\n",
            " 0.72630719 0.80065359 0.79187092 0.77328431 0.78451797 0.78329248\n",
            " 0.80412582 0.79473039 0.7879902  0.7879902  0.79473039 0.81168301\n",
            " 0.81699346 0.82986111 0.83843954 0.83884804 0.82781863 0.82598039\n",
            " 0.85028595 0.85886438 0.86254085 0.88480392 0.86519608 0.84027778\n",
            " 0.84497549 0.87111928 0.85273693 0.86213235 0.83455882 0.84375\n",
            " 0.71466503 0.66053922 0.65420752 0.68035131 0.6689134  0.66421569\n",
            " 0.67892157 0.69138072 0.70894608 0.72263072 0.73406863 0.72120098\n",
            " 0.74979575 0.7689951  0.74468954 0.7120098  0.74673203 0.75490196\n",
            " 0.76041667 0.75980392 0.74652778 0.76245915 0.77062908 0.80412582\n",
            " 0.78104575 0.79411765 0.76021242 0.73488562 0.72406046 0.73999183\n",
            " 0.74979575 0.76143791 0.75428922 0.74754902 0.76960784 0.7495915\n",
            " 0.81719771 0.80208333 0.77736928 0.75714869 0.79370915 0.79166667\n",
            " 0.77144608 0.75265523 0.72691993 0.6629902  0.68198529 0.64419935\n",
            " 0.62152778 0.6439951  0.66319444 0.67544935 0.63705065 0.64603758\n",
            " 0.65890523 0.65870098 0.67790033 0.63194444 0.63112745 0.62785948\n",
            " 0.64767157 0.63991013 0.63480392 0.63868464 0.62336601 0.62745098\n",
            " 0.63970588 0.64705882 0.66196895 0.67075163 0.65196078 0.63112745\n",
            " 0.61294935 0.6376634  0.62254902 0.62745098 0.63337418 0.62642974\n",
            " 0.63623366 0.58312908 0.57781863 0.57230392 0.58006536 0.57618464\n",
            " 0.55167484 0.57883987 0.625      0.63582516 0.62949346 0.62888072\n",
            " 0.62765523 0.62234477 0.63378268 0.62622549 0.62214052 0.62418301\n",
            " 0.60667551 0.57357901]\n",
            "2 day output [[0.5440348]]\n",
            "3 day input [0.83129085 0.8306781  0.84109477 0.85743464 0.89746732 0.89828431\n",
            " 0.89542484 0.90604575 0.91911765 0.91748366 0.92177288 0.96180556\n",
            " 0.94750817 0.94035948 0.94056373 0.94485294 0.94771242 0.96670752\n",
            " 0.95731209 0.95241013 0.94914216 1.         0.98876634 0.96180556\n",
            " 0.9501634  0.91707516 0.92892157 0.93096405 0.92422386 0.9121732\n",
            " 0.9121732  0.90216503 0.91115196 0.85661765 0.84722222 0.79207516\n",
            " 0.78492647 0.75878268 0.81372549 0.81495098 0.80596405 0.83394608\n",
            " 0.82107843 0.80923203 0.79513889 0.76388889 0.74305556 0.75837418\n",
            " 0.74019608 0.77512255 0.78656046 0.79268791 0.79473039 0.79207516\n",
            " 0.79534314 0.78921569 0.76776961 0.78615196 0.76552288 0.79697712\n",
            " 0.8057598  0.80698529 0.81147876 0.78206699 0.73386438 0.73978758\n",
            " 0.74448529 0.72671569 0.72283497 0.74040033 0.74693627 0.72630719\n",
            " 0.80065359 0.79187092 0.77328431 0.78451797 0.78329248 0.80412582\n",
            " 0.79473039 0.7879902  0.7879902  0.79473039 0.81168301 0.81699346\n",
            " 0.82986111 0.83843954 0.83884804 0.82781863 0.82598039 0.85028595\n",
            " 0.85886438 0.86254085 0.88480392 0.86519608 0.84027778 0.84497549\n",
            " 0.87111928 0.85273693 0.86213235 0.83455882 0.84375    0.71466503\n",
            " 0.66053922 0.65420752 0.68035131 0.6689134  0.66421569 0.67892157\n",
            " 0.69138072 0.70894608 0.72263072 0.73406863 0.72120098 0.74979575\n",
            " 0.7689951  0.74468954 0.7120098  0.74673203 0.75490196 0.76041667\n",
            " 0.75980392 0.74652778 0.76245915 0.77062908 0.80412582 0.78104575\n",
            " 0.79411765 0.76021242 0.73488562 0.72406046 0.73999183 0.74979575\n",
            " 0.76143791 0.75428922 0.74754902 0.76960784 0.7495915  0.81719771\n",
            " 0.80208333 0.77736928 0.75714869 0.79370915 0.79166667 0.77144608\n",
            " 0.75265523 0.72691993 0.6629902  0.68198529 0.64419935 0.62152778\n",
            " 0.6439951  0.66319444 0.67544935 0.63705065 0.64603758 0.65890523\n",
            " 0.65870098 0.67790033 0.63194444 0.63112745 0.62785948 0.64767157\n",
            " 0.63991013 0.63480392 0.63868464 0.62336601 0.62745098 0.63970588\n",
            " 0.64705882 0.66196895 0.67075163 0.65196078 0.63112745 0.61294935\n",
            " 0.6376634  0.62254902 0.62745098 0.63337418 0.62642974 0.63623366\n",
            " 0.58312908 0.57781863 0.57230392 0.58006536 0.57618464 0.55167484\n",
            " 0.57883987 0.625      0.63582516 0.62949346 0.62888072 0.62765523\n",
            " 0.62234477 0.63378268 0.62622549 0.62214052 0.62418301 0.60667551\n",
            " 0.57357901 0.54403478]\n",
            "3 day output [[0.5251922]]\n",
            "4 day input [0.8306781  0.84109477 0.85743464 0.89746732 0.89828431 0.89542484\n",
            " 0.90604575 0.91911765 0.91748366 0.92177288 0.96180556 0.94750817\n",
            " 0.94035948 0.94056373 0.94485294 0.94771242 0.96670752 0.95731209\n",
            " 0.95241013 0.94914216 1.         0.98876634 0.96180556 0.9501634\n",
            " 0.91707516 0.92892157 0.93096405 0.92422386 0.9121732  0.9121732\n",
            " 0.90216503 0.91115196 0.85661765 0.84722222 0.79207516 0.78492647\n",
            " 0.75878268 0.81372549 0.81495098 0.80596405 0.83394608 0.82107843\n",
            " 0.80923203 0.79513889 0.76388889 0.74305556 0.75837418 0.74019608\n",
            " 0.77512255 0.78656046 0.79268791 0.79473039 0.79207516 0.79534314\n",
            " 0.78921569 0.76776961 0.78615196 0.76552288 0.79697712 0.8057598\n",
            " 0.80698529 0.81147876 0.78206699 0.73386438 0.73978758 0.74448529\n",
            " 0.72671569 0.72283497 0.74040033 0.74693627 0.72630719 0.80065359\n",
            " 0.79187092 0.77328431 0.78451797 0.78329248 0.80412582 0.79473039\n",
            " 0.7879902  0.7879902  0.79473039 0.81168301 0.81699346 0.82986111\n",
            " 0.83843954 0.83884804 0.82781863 0.82598039 0.85028595 0.85886438\n",
            " 0.86254085 0.88480392 0.86519608 0.84027778 0.84497549 0.87111928\n",
            " 0.85273693 0.86213235 0.83455882 0.84375    0.71466503 0.66053922\n",
            " 0.65420752 0.68035131 0.6689134  0.66421569 0.67892157 0.69138072\n",
            " 0.70894608 0.72263072 0.73406863 0.72120098 0.74979575 0.7689951\n",
            " 0.74468954 0.7120098  0.74673203 0.75490196 0.76041667 0.75980392\n",
            " 0.74652778 0.76245915 0.77062908 0.80412582 0.78104575 0.79411765\n",
            " 0.76021242 0.73488562 0.72406046 0.73999183 0.74979575 0.76143791\n",
            " 0.75428922 0.74754902 0.76960784 0.7495915  0.81719771 0.80208333\n",
            " 0.77736928 0.75714869 0.79370915 0.79166667 0.77144608 0.75265523\n",
            " 0.72691993 0.6629902  0.68198529 0.64419935 0.62152778 0.6439951\n",
            " 0.66319444 0.67544935 0.63705065 0.64603758 0.65890523 0.65870098\n",
            " 0.67790033 0.63194444 0.63112745 0.62785948 0.64767157 0.63991013\n",
            " 0.63480392 0.63868464 0.62336601 0.62745098 0.63970588 0.64705882\n",
            " 0.66196895 0.67075163 0.65196078 0.63112745 0.61294935 0.6376634\n",
            " 0.62254902 0.62745098 0.63337418 0.62642974 0.63623366 0.58312908\n",
            " 0.57781863 0.57230392 0.58006536 0.57618464 0.55167484 0.57883987\n",
            " 0.625      0.63582516 0.62949346 0.62888072 0.62765523 0.62234477\n",
            " 0.63378268 0.62622549 0.62214052 0.62418301 0.60667551 0.57357901\n",
            " 0.54403478 0.5251922 ]\n",
            "4 day output [[0.5129916]]\n",
            "5 day input [0.84109477 0.85743464 0.89746732 0.89828431 0.89542484 0.90604575\n",
            " 0.91911765 0.91748366 0.92177288 0.96180556 0.94750817 0.94035948\n",
            " 0.94056373 0.94485294 0.94771242 0.96670752 0.95731209 0.95241013\n",
            " 0.94914216 1.         0.98876634 0.96180556 0.9501634  0.91707516\n",
            " 0.92892157 0.93096405 0.92422386 0.9121732  0.9121732  0.90216503\n",
            " 0.91115196 0.85661765 0.84722222 0.79207516 0.78492647 0.75878268\n",
            " 0.81372549 0.81495098 0.80596405 0.83394608 0.82107843 0.80923203\n",
            " 0.79513889 0.76388889 0.74305556 0.75837418 0.74019608 0.77512255\n",
            " 0.78656046 0.79268791 0.79473039 0.79207516 0.79534314 0.78921569\n",
            " 0.76776961 0.78615196 0.76552288 0.79697712 0.8057598  0.80698529\n",
            " 0.81147876 0.78206699 0.73386438 0.73978758 0.74448529 0.72671569\n",
            " 0.72283497 0.74040033 0.74693627 0.72630719 0.80065359 0.79187092\n",
            " 0.77328431 0.78451797 0.78329248 0.80412582 0.79473039 0.7879902\n",
            " 0.7879902  0.79473039 0.81168301 0.81699346 0.82986111 0.83843954\n",
            " 0.83884804 0.82781863 0.82598039 0.85028595 0.85886438 0.86254085\n",
            " 0.88480392 0.86519608 0.84027778 0.84497549 0.87111928 0.85273693\n",
            " 0.86213235 0.83455882 0.84375    0.71466503 0.66053922 0.65420752\n",
            " 0.68035131 0.6689134  0.66421569 0.67892157 0.69138072 0.70894608\n",
            " 0.72263072 0.73406863 0.72120098 0.74979575 0.7689951  0.74468954\n",
            " 0.7120098  0.74673203 0.75490196 0.76041667 0.75980392 0.74652778\n",
            " 0.76245915 0.77062908 0.80412582 0.78104575 0.79411765 0.76021242\n",
            " 0.73488562 0.72406046 0.73999183 0.74979575 0.76143791 0.75428922\n",
            " 0.74754902 0.76960784 0.7495915  0.81719771 0.80208333 0.77736928\n",
            " 0.75714869 0.79370915 0.79166667 0.77144608 0.75265523 0.72691993\n",
            " 0.6629902  0.68198529 0.64419935 0.62152778 0.6439951  0.66319444\n",
            " 0.67544935 0.63705065 0.64603758 0.65890523 0.65870098 0.67790033\n",
            " 0.63194444 0.63112745 0.62785948 0.64767157 0.63991013 0.63480392\n",
            " 0.63868464 0.62336601 0.62745098 0.63970588 0.64705882 0.66196895\n",
            " 0.67075163 0.65196078 0.63112745 0.61294935 0.6376634  0.62254902\n",
            " 0.62745098 0.63337418 0.62642974 0.63623366 0.58312908 0.57781863\n",
            " 0.57230392 0.58006536 0.57618464 0.55167484 0.57883987 0.625\n",
            " 0.63582516 0.62949346 0.62888072 0.62765523 0.62234477 0.63378268\n",
            " 0.62622549 0.62214052 0.62418301 0.60667551 0.57357901 0.54403478\n",
            " 0.5251922  0.51299161]\n",
            "5 day output [[0.5025102]]\n",
            "6 day input [0.85743464 0.89746732 0.89828431 0.89542484 0.90604575 0.91911765\n",
            " 0.91748366 0.92177288 0.96180556 0.94750817 0.94035948 0.94056373\n",
            " 0.94485294 0.94771242 0.96670752 0.95731209 0.95241013 0.94914216\n",
            " 1.         0.98876634 0.96180556 0.9501634  0.91707516 0.92892157\n",
            " 0.93096405 0.92422386 0.9121732  0.9121732  0.90216503 0.91115196\n",
            " 0.85661765 0.84722222 0.79207516 0.78492647 0.75878268 0.81372549\n",
            " 0.81495098 0.80596405 0.83394608 0.82107843 0.80923203 0.79513889\n",
            " 0.76388889 0.74305556 0.75837418 0.74019608 0.77512255 0.78656046\n",
            " 0.79268791 0.79473039 0.79207516 0.79534314 0.78921569 0.76776961\n",
            " 0.78615196 0.76552288 0.79697712 0.8057598  0.80698529 0.81147876\n",
            " 0.78206699 0.73386438 0.73978758 0.74448529 0.72671569 0.72283497\n",
            " 0.74040033 0.74693627 0.72630719 0.80065359 0.79187092 0.77328431\n",
            " 0.78451797 0.78329248 0.80412582 0.79473039 0.7879902  0.7879902\n",
            " 0.79473039 0.81168301 0.81699346 0.82986111 0.83843954 0.83884804\n",
            " 0.82781863 0.82598039 0.85028595 0.85886438 0.86254085 0.88480392\n",
            " 0.86519608 0.84027778 0.84497549 0.87111928 0.85273693 0.86213235\n",
            " 0.83455882 0.84375    0.71466503 0.66053922 0.65420752 0.68035131\n",
            " 0.6689134  0.66421569 0.67892157 0.69138072 0.70894608 0.72263072\n",
            " 0.73406863 0.72120098 0.74979575 0.7689951  0.74468954 0.7120098\n",
            " 0.74673203 0.75490196 0.76041667 0.75980392 0.74652778 0.76245915\n",
            " 0.77062908 0.80412582 0.78104575 0.79411765 0.76021242 0.73488562\n",
            " 0.72406046 0.73999183 0.74979575 0.76143791 0.75428922 0.74754902\n",
            " 0.76960784 0.7495915  0.81719771 0.80208333 0.77736928 0.75714869\n",
            " 0.79370915 0.79166667 0.77144608 0.75265523 0.72691993 0.6629902\n",
            " 0.68198529 0.64419935 0.62152778 0.6439951  0.66319444 0.67544935\n",
            " 0.63705065 0.64603758 0.65890523 0.65870098 0.67790033 0.63194444\n",
            " 0.63112745 0.62785948 0.64767157 0.63991013 0.63480392 0.63868464\n",
            " 0.62336601 0.62745098 0.63970588 0.64705882 0.66196895 0.67075163\n",
            " 0.65196078 0.63112745 0.61294935 0.6376634  0.62254902 0.62745098\n",
            " 0.63337418 0.62642974 0.63623366 0.58312908 0.57781863 0.57230392\n",
            " 0.58006536 0.57618464 0.55167484 0.57883987 0.625      0.63582516\n",
            " 0.62949346 0.62888072 0.62765523 0.62234477 0.63378268 0.62622549\n",
            " 0.62214052 0.62418301 0.60667551 0.57357901 0.54403478 0.5251922\n",
            " 0.51299161 0.50251019]\n",
            "6 day output [[0.4921961]]\n",
            "7 day input [0.89746732 0.89828431 0.89542484 0.90604575 0.91911765 0.91748366\n",
            " 0.92177288 0.96180556 0.94750817 0.94035948 0.94056373 0.94485294\n",
            " 0.94771242 0.96670752 0.95731209 0.95241013 0.94914216 1.\n",
            " 0.98876634 0.96180556 0.9501634  0.91707516 0.92892157 0.93096405\n",
            " 0.92422386 0.9121732  0.9121732  0.90216503 0.91115196 0.85661765\n",
            " 0.84722222 0.79207516 0.78492647 0.75878268 0.81372549 0.81495098\n",
            " 0.80596405 0.83394608 0.82107843 0.80923203 0.79513889 0.76388889\n",
            " 0.74305556 0.75837418 0.74019608 0.77512255 0.78656046 0.79268791\n",
            " 0.79473039 0.79207516 0.79534314 0.78921569 0.76776961 0.78615196\n",
            " 0.76552288 0.79697712 0.8057598  0.80698529 0.81147876 0.78206699\n",
            " 0.73386438 0.73978758 0.74448529 0.72671569 0.72283497 0.74040033\n",
            " 0.74693627 0.72630719 0.80065359 0.79187092 0.77328431 0.78451797\n",
            " 0.78329248 0.80412582 0.79473039 0.7879902  0.7879902  0.79473039\n",
            " 0.81168301 0.81699346 0.82986111 0.83843954 0.83884804 0.82781863\n",
            " 0.82598039 0.85028595 0.85886438 0.86254085 0.88480392 0.86519608\n",
            " 0.84027778 0.84497549 0.87111928 0.85273693 0.86213235 0.83455882\n",
            " 0.84375    0.71466503 0.66053922 0.65420752 0.68035131 0.6689134\n",
            " 0.66421569 0.67892157 0.69138072 0.70894608 0.72263072 0.73406863\n",
            " 0.72120098 0.74979575 0.7689951  0.74468954 0.7120098  0.74673203\n",
            " 0.75490196 0.76041667 0.75980392 0.74652778 0.76245915 0.77062908\n",
            " 0.80412582 0.78104575 0.79411765 0.76021242 0.73488562 0.72406046\n",
            " 0.73999183 0.74979575 0.76143791 0.75428922 0.74754902 0.76960784\n",
            " 0.7495915  0.81719771 0.80208333 0.77736928 0.75714869 0.79370915\n",
            " 0.79166667 0.77144608 0.75265523 0.72691993 0.6629902  0.68198529\n",
            " 0.64419935 0.62152778 0.6439951  0.66319444 0.67544935 0.63705065\n",
            " 0.64603758 0.65890523 0.65870098 0.67790033 0.63194444 0.63112745\n",
            " 0.62785948 0.64767157 0.63991013 0.63480392 0.63868464 0.62336601\n",
            " 0.62745098 0.63970588 0.64705882 0.66196895 0.67075163 0.65196078\n",
            " 0.63112745 0.61294935 0.6376634  0.62254902 0.62745098 0.63337418\n",
            " 0.62642974 0.63623366 0.58312908 0.57781863 0.57230392 0.58006536\n",
            " 0.57618464 0.55167484 0.57883987 0.625      0.63582516 0.62949346\n",
            " 0.62888072 0.62765523 0.62234477 0.63378268 0.62622549 0.62214052\n",
            " 0.62418301 0.60667551 0.57357901 0.54403478 0.5251922  0.51299161\n",
            " 0.50251019 0.49219611]\n",
            "7 day output [[0.48262843]]\n",
            "8 day input [0.89828431 0.89542484 0.90604575 0.91911765 0.91748366 0.92177288\n",
            " 0.96180556 0.94750817 0.94035948 0.94056373 0.94485294 0.94771242\n",
            " 0.96670752 0.95731209 0.95241013 0.94914216 1.         0.98876634\n",
            " 0.96180556 0.9501634  0.91707516 0.92892157 0.93096405 0.92422386\n",
            " 0.9121732  0.9121732  0.90216503 0.91115196 0.85661765 0.84722222\n",
            " 0.79207516 0.78492647 0.75878268 0.81372549 0.81495098 0.80596405\n",
            " 0.83394608 0.82107843 0.80923203 0.79513889 0.76388889 0.74305556\n",
            " 0.75837418 0.74019608 0.77512255 0.78656046 0.79268791 0.79473039\n",
            " 0.79207516 0.79534314 0.78921569 0.76776961 0.78615196 0.76552288\n",
            " 0.79697712 0.8057598  0.80698529 0.81147876 0.78206699 0.73386438\n",
            " 0.73978758 0.74448529 0.72671569 0.72283497 0.74040033 0.74693627\n",
            " 0.72630719 0.80065359 0.79187092 0.77328431 0.78451797 0.78329248\n",
            " 0.80412582 0.79473039 0.7879902  0.7879902  0.79473039 0.81168301\n",
            " 0.81699346 0.82986111 0.83843954 0.83884804 0.82781863 0.82598039\n",
            " 0.85028595 0.85886438 0.86254085 0.88480392 0.86519608 0.84027778\n",
            " 0.84497549 0.87111928 0.85273693 0.86213235 0.83455882 0.84375\n",
            " 0.71466503 0.66053922 0.65420752 0.68035131 0.6689134  0.66421569\n",
            " 0.67892157 0.69138072 0.70894608 0.72263072 0.73406863 0.72120098\n",
            " 0.74979575 0.7689951  0.74468954 0.7120098  0.74673203 0.75490196\n",
            " 0.76041667 0.75980392 0.74652778 0.76245915 0.77062908 0.80412582\n",
            " 0.78104575 0.79411765 0.76021242 0.73488562 0.72406046 0.73999183\n",
            " 0.74979575 0.76143791 0.75428922 0.74754902 0.76960784 0.7495915\n",
            " 0.81719771 0.80208333 0.77736928 0.75714869 0.79370915 0.79166667\n",
            " 0.77144608 0.75265523 0.72691993 0.6629902  0.68198529 0.64419935\n",
            " 0.62152778 0.6439951  0.66319444 0.67544935 0.63705065 0.64603758\n",
            " 0.65890523 0.65870098 0.67790033 0.63194444 0.63112745 0.62785948\n",
            " 0.64767157 0.63991013 0.63480392 0.63868464 0.62336601 0.62745098\n",
            " 0.63970588 0.64705882 0.66196895 0.67075163 0.65196078 0.63112745\n",
            " 0.61294935 0.6376634  0.62254902 0.62745098 0.63337418 0.62642974\n",
            " 0.63623366 0.58312908 0.57781863 0.57230392 0.58006536 0.57618464\n",
            " 0.55167484 0.57883987 0.625      0.63582516 0.62949346 0.62888072\n",
            " 0.62765523 0.62234477 0.63378268 0.62622549 0.62214052 0.62418301\n",
            " 0.60667551 0.57357901 0.54403478 0.5251922  0.51299161 0.50251019\n",
            " 0.49219611 0.48262843]\n",
            "8 day output [[0.47451508]]\n",
            "9 day input [0.89542484 0.90604575 0.91911765 0.91748366 0.92177288 0.96180556\n",
            " 0.94750817 0.94035948 0.94056373 0.94485294 0.94771242 0.96670752\n",
            " 0.95731209 0.95241013 0.94914216 1.         0.98876634 0.96180556\n",
            " 0.9501634  0.91707516 0.92892157 0.93096405 0.92422386 0.9121732\n",
            " 0.9121732  0.90216503 0.91115196 0.85661765 0.84722222 0.79207516\n",
            " 0.78492647 0.75878268 0.81372549 0.81495098 0.80596405 0.83394608\n",
            " 0.82107843 0.80923203 0.79513889 0.76388889 0.74305556 0.75837418\n",
            " 0.74019608 0.77512255 0.78656046 0.79268791 0.79473039 0.79207516\n",
            " 0.79534314 0.78921569 0.76776961 0.78615196 0.76552288 0.79697712\n",
            " 0.8057598  0.80698529 0.81147876 0.78206699 0.73386438 0.73978758\n",
            " 0.74448529 0.72671569 0.72283497 0.74040033 0.74693627 0.72630719\n",
            " 0.80065359 0.79187092 0.77328431 0.78451797 0.78329248 0.80412582\n",
            " 0.79473039 0.7879902  0.7879902  0.79473039 0.81168301 0.81699346\n",
            " 0.82986111 0.83843954 0.83884804 0.82781863 0.82598039 0.85028595\n",
            " 0.85886438 0.86254085 0.88480392 0.86519608 0.84027778 0.84497549\n",
            " 0.87111928 0.85273693 0.86213235 0.83455882 0.84375    0.71466503\n",
            " 0.66053922 0.65420752 0.68035131 0.6689134  0.66421569 0.67892157\n",
            " 0.69138072 0.70894608 0.72263072 0.73406863 0.72120098 0.74979575\n",
            " 0.7689951  0.74468954 0.7120098  0.74673203 0.75490196 0.76041667\n",
            " 0.75980392 0.74652778 0.76245915 0.77062908 0.80412582 0.78104575\n",
            " 0.79411765 0.76021242 0.73488562 0.72406046 0.73999183 0.74979575\n",
            " 0.76143791 0.75428922 0.74754902 0.76960784 0.7495915  0.81719771\n",
            " 0.80208333 0.77736928 0.75714869 0.79370915 0.79166667 0.77144608\n",
            " 0.75265523 0.72691993 0.6629902  0.68198529 0.64419935 0.62152778\n",
            " 0.6439951  0.66319444 0.67544935 0.63705065 0.64603758 0.65890523\n",
            " 0.65870098 0.67790033 0.63194444 0.63112745 0.62785948 0.64767157\n",
            " 0.63991013 0.63480392 0.63868464 0.62336601 0.62745098 0.63970588\n",
            " 0.64705882 0.66196895 0.67075163 0.65196078 0.63112745 0.61294935\n",
            " 0.6376634  0.62254902 0.62745098 0.63337418 0.62642974 0.63623366\n",
            " 0.58312908 0.57781863 0.57230392 0.58006536 0.57618464 0.55167484\n",
            " 0.57883987 0.625      0.63582516 0.62949346 0.62888072 0.62765523\n",
            " 0.62234477 0.63378268 0.62622549 0.62214052 0.62418301 0.60667551\n",
            " 0.57357901 0.54403478 0.5251922  0.51299161 0.50251019 0.49219611\n",
            " 0.48262843 0.47451508]\n",
            "9 day output [[0.46795925]]\n",
            "10 day input [0.90604575 0.91911765 0.91748366 0.92177288 0.96180556 0.94750817\n",
            " 0.94035948 0.94056373 0.94485294 0.94771242 0.96670752 0.95731209\n",
            " 0.95241013 0.94914216 1.         0.98876634 0.96180556 0.9501634\n",
            " 0.91707516 0.92892157 0.93096405 0.92422386 0.9121732  0.9121732\n",
            " 0.90216503 0.91115196 0.85661765 0.84722222 0.79207516 0.78492647\n",
            " 0.75878268 0.81372549 0.81495098 0.80596405 0.83394608 0.82107843\n",
            " 0.80923203 0.79513889 0.76388889 0.74305556 0.75837418 0.74019608\n",
            " 0.77512255 0.78656046 0.79268791 0.79473039 0.79207516 0.79534314\n",
            " 0.78921569 0.76776961 0.78615196 0.76552288 0.79697712 0.8057598\n",
            " 0.80698529 0.81147876 0.78206699 0.73386438 0.73978758 0.74448529\n",
            " 0.72671569 0.72283497 0.74040033 0.74693627 0.72630719 0.80065359\n",
            " 0.79187092 0.77328431 0.78451797 0.78329248 0.80412582 0.79473039\n",
            " 0.7879902  0.7879902  0.79473039 0.81168301 0.81699346 0.82986111\n",
            " 0.83843954 0.83884804 0.82781863 0.82598039 0.85028595 0.85886438\n",
            " 0.86254085 0.88480392 0.86519608 0.84027778 0.84497549 0.87111928\n",
            " 0.85273693 0.86213235 0.83455882 0.84375    0.71466503 0.66053922\n",
            " 0.65420752 0.68035131 0.6689134  0.66421569 0.67892157 0.69138072\n",
            " 0.70894608 0.72263072 0.73406863 0.72120098 0.74979575 0.7689951\n",
            " 0.74468954 0.7120098  0.74673203 0.75490196 0.76041667 0.75980392\n",
            " 0.74652778 0.76245915 0.77062908 0.80412582 0.78104575 0.79411765\n",
            " 0.76021242 0.73488562 0.72406046 0.73999183 0.74979575 0.76143791\n",
            " 0.75428922 0.74754902 0.76960784 0.7495915  0.81719771 0.80208333\n",
            " 0.77736928 0.75714869 0.79370915 0.79166667 0.77144608 0.75265523\n",
            " 0.72691993 0.6629902  0.68198529 0.64419935 0.62152778 0.6439951\n",
            " 0.66319444 0.67544935 0.63705065 0.64603758 0.65890523 0.65870098\n",
            " 0.67790033 0.63194444 0.63112745 0.62785948 0.64767157 0.63991013\n",
            " 0.63480392 0.63868464 0.62336601 0.62745098 0.63970588 0.64705882\n",
            " 0.66196895 0.67075163 0.65196078 0.63112745 0.61294935 0.6376634\n",
            " 0.62254902 0.62745098 0.63337418 0.62642974 0.63623366 0.58312908\n",
            " 0.57781863 0.57230392 0.58006536 0.57618464 0.55167484 0.57883987\n",
            " 0.625      0.63582516 0.62949346 0.62888072 0.62765523 0.62234477\n",
            " 0.63378268 0.62622549 0.62214052 0.62418301 0.60667551 0.57357901\n",
            " 0.54403478 0.5251922  0.51299161 0.50251019 0.49219611 0.48262843\n",
            " 0.47451508 0.46795925]\n",
            "10 day output [[0.4626508]]\n",
            "11 day input [0.91911765 0.91748366 0.92177288 0.96180556 0.94750817 0.94035948\n",
            " 0.94056373 0.94485294 0.94771242 0.96670752 0.95731209 0.95241013\n",
            " 0.94914216 1.         0.98876634 0.96180556 0.9501634  0.91707516\n",
            " 0.92892157 0.93096405 0.92422386 0.9121732  0.9121732  0.90216503\n",
            " 0.91115196 0.85661765 0.84722222 0.79207516 0.78492647 0.75878268\n",
            " 0.81372549 0.81495098 0.80596405 0.83394608 0.82107843 0.80923203\n",
            " 0.79513889 0.76388889 0.74305556 0.75837418 0.74019608 0.77512255\n",
            " 0.78656046 0.79268791 0.79473039 0.79207516 0.79534314 0.78921569\n",
            " 0.76776961 0.78615196 0.76552288 0.79697712 0.8057598  0.80698529\n",
            " 0.81147876 0.78206699 0.73386438 0.73978758 0.74448529 0.72671569\n",
            " 0.72283497 0.74040033 0.74693627 0.72630719 0.80065359 0.79187092\n",
            " 0.77328431 0.78451797 0.78329248 0.80412582 0.79473039 0.7879902\n",
            " 0.7879902  0.79473039 0.81168301 0.81699346 0.82986111 0.83843954\n",
            " 0.83884804 0.82781863 0.82598039 0.85028595 0.85886438 0.86254085\n",
            " 0.88480392 0.86519608 0.84027778 0.84497549 0.87111928 0.85273693\n",
            " 0.86213235 0.83455882 0.84375    0.71466503 0.66053922 0.65420752\n",
            " 0.68035131 0.6689134  0.66421569 0.67892157 0.69138072 0.70894608\n",
            " 0.72263072 0.73406863 0.72120098 0.74979575 0.7689951  0.74468954\n",
            " 0.7120098  0.74673203 0.75490196 0.76041667 0.75980392 0.74652778\n",
            " 0.76245915 0.77062908 0.80412582 0.78104575 0.79411765 0.76021242\n",
            " 0.73488562 0.72406046 0.73999183 0.74979575 0.76143791 0.75428922\n",
            " 0.74754902 0.76960784 0.7495915  0.81719771 0.80208333 0.77736928\n",
            " 0.75714869 0.79370915 0.79166667 0.77144608 0.75265523 0.72691993\n",
            " 0.6629902  0.68198529 0.64419935 0.62152778 0.6439951  0.66319444\n",
            " 0.67544935 0.63705065 0.64603758 0.65890523 0.65870098 0.67790033\n",
            " 0.63194444 0.63112745 0.62785948 0.64767157 0.63991013 0.63480392\n",
            " 0.63868464 0.62336601 0.62745098 0.63970588 0.64705882 0.66196895\n",
            " 0.67075163 0.65196078 0.63112745 0.61294935 0.6376634  0.62254902\n",
            " 0.62745098 0.63337418 0.62642974 0.63623366 0.58312908 0.57781863\n",
            " 0.57230392 0.58006536 0.57618464 0.55167484 0.57883987 0.625\n",
            " 0.63582516 0.62949346 0.62888072 0.62765523 0.62234477 0.63378268\n",
            " 0.62622549 0.62214052 0.62418301 0.60667551 0.57357901 0.54403478\n",
            " 0.5251922  0.51299161 0.50251019 0.49219611 0.48262843 0.47451508\n",
            " 0.46795925 0.46265081]\n",
            "11 day output [[0.45820692]]\n",
            "12 day input [0.91748366 0.92177288 0.96180556 0.94750817 0.94035948 0.94056373\n",
            " 0.94485294 0.94771242 0.96670752 0.95731209 0.95241013 0.94914216\n",
            " 1.         0.98876634 0.96180556 0.9501634  0.91707516 0.92892157\n",
            " 0.93096405 0.92422386 0.9121732  0.9121732  0.90216503 0.91115196\n",
            " 0.85661765 0.84722222 0.79207516 0.78492647 0.75878268 0.81372549\n",
            " 0.81495098 0.80596405 0.83394608 0.82107843 0.80923203 0.79513889\n",
            " 0.76388889 0.74305556 0.75837418 0.74019608 0.77512255 0.78656046\n",
            " 0.79268791 0.79473039 0.79207516 0.79534314 0.78921569 0.76776961\n",
            " 0.78615196 0.76552288 0.79697712 0.8057598  0.80698529 0.81147876\n",
            " 0.78206699 0.73386438 0.73978758 0.74448529 0.72671569 0.72283497\n",
            " 0.74040033 0.74693627 0.72630719 0.80065359 0.79187092 0.77328431\n",
            " 0.78451797 0.78329248 0.80412582 0.79473039 0.7879902  0.7879902\n",
            " 0.79473039 0.81168301 0.81699346 0.82986111 0.83843954 0.83884804\n",
            " 0.82781863 0.82598039 0.85028595 0.85886438 0.86254085 0.88480392\n",
            " 0.86519608 0.84027778 0.84497549 0.87111928 0.85273693 0.86213235\n",
            " 0.83455882 0.84375    0.71466503 0.66053922 0.65420752 0.68035131\n",
            " 0.6689134  0.66421569 0.67892157 0.69138072 0.70894608 0.72263072\n",
            " 0.73406863 0.72120098 0.74979575 0.7689951  0.74468954 0.7120098\n",
            " 0.74673203 0.75490196 0.76041667 0.75980392 0.74652778 0.76245915\n",
            " 0.77062908 0.80412582 0.78104575 0.79411765 0.76021242 0.73488562\n",
            " 0.72406046 0.73999183 0.74979575 0.76143791 0.75428922 0.74754902\n",
            " 0.76960784 0.7495915  0.81719771 0.80208333 0.77736928 0.75714869\n",
            " 0.79370915 0.79166667 0.77144608 0.75265523 0.72691993 0.6629902\n",
            " 0.68198529 0.64419935 0.62152778 0.6439951  0.66319444 0.67544935\n",
            " 0.63705065 0.64603758 0.65890523 0.65870098 0.67790033 0.63194444\n",
            " 0.63112745 0.62785948 0.64767157 0.63991013 0.63480392 0.63868464\n",
            " 0.62336601 0.62745098 0.63970588 0.64705882 0.66196895 0.67075163\n",
            " 0.65196078 0.63112745 0.61294935 0.6376634  0.62254902 0.62745098\n",
            " 0.63337418 0.62642974 0.63623366 0.58312908 0.57781863 0.57230392\n",
            " 0.58006536 0.57618464 0.55167484 0.57883987 0.625      0.63582516\n",
            " 0.62949346 0.62888072 0.62765523 0.62234477 0.63378268 0.62622549\n",
            " 0.62214052 0.62418301 0.60667551 0.57357901 0.54403478 0.5251922\n",
            " 0.51299161 0.50251019 0.49219611 0.48262843 0.47451508 0.46795925\n",
            " 0.46265081 0.45820692]\n",
            "12 day output [[0.45433596]]\n",
            "13 day input [0.92177288 0.96180556 0.94750817 0.94035948 0.94056373 0.94485294\n",
            " 0.94771242 0.96670752 0.95731209 0.95241013 0.94914216 1.\n",
            " 0.98876634 0.96180556 0.9501634  0.91707516 0.92892157 0.93096405\n",
            " 0.92422386 0.9121732  0.9121732  0.90216503 0.91115196 0.85661765\n",
            " 0.84722222 0.79207516 0.78492647 0.75878268 0.81372549 0.81495098\n",
            " 0.80596405 0.83394608 0.82107843 0.80923203 0.79513889 0.76388889\n",
            " 0.74305556 0.75837418 0.74019608 0.77512255 0.78656046 0.79268791\n",
            " 0.79473039 0.79207516 0.79534314 0.78921569 0.76776961 0.78615196\n",
            " 0.76552288 0.79697712 0.8057598  0.80698529 0.81147876 0.78206699\n",
            " 0.73386438 0.73978758 0.74448529 0.72671569 0.72283497 0.74040033\n",
            " 0.74693627 0.72630719 0.80065359 0.79187092 0.77328431 0.78451797\n",
            " 0.78329248 0.80412582 0.79473039 0.7879902  0.7879902  0.79473039\n",
            " 0.81168301 0.81699346 0.82986111 0.83843954 0.83884804 0.82781863\n",
            " 0.82598039 0.85028595 0.85886438 0.86254085 0.88480392 0.86519608\n",
            " 0.84027778 0.84497549 0.87111928 0.85273693 0.86213235 0.83455882\n",
            " 0.84375    0.71466503 0.66053922 0.65420752 0.68035131 0.6689134\n",
            " 0.66421569 0.67892157 0.69138072 0.70894608 0.72263072 0.73406863\n",
            " 0.72120098 0.74979575 0.7689951  0.74468954 0.7120098  0.74673203\n",
            " 0.75490196 0.76041667 0.75980392 0.74652778 0.76245915 0.77062908\n",
            " 0.80412582 0.78104575 0.79411765 0.76021242 0.73488562 0.72406046\n",
            " 0.73999183 0.74979575 0.76143791 0.75428922 0.74754902 0.76960784\n",
            " 0.7495915  0.81719771 0.80208333 0.77736928 0.75714869 0.79370915\n",
            " 0.79166667 0.77144608 0.75265523 0.72691993 0.6629902  0.68198529\n",
            " 0.64419935 0.62152778 0.6439951  0.66319444 0.67544935 0.63705065\n",
            " 0.64603758 0.65890523 0.65870098 0.67790033 0.63194444 0.63112745\n",
            " 0.62785948 0.64767157 0.63991013 0.63480392 0.63868464 0.62336601\n",
            " 0.62745098 0.63970588 0.64705882 0.66196895 0.67075163 0.65196078\n",
            " 0.63112745 0.61294935 0.6376634  0.62254902 0.62745098 0.63337418\n",
            " 0.62642974 0.63623366 0.58312908 0.57781863 0.57230392 0.58006536\n",
            " 0.57618464 0.55167484 0.57883987 0.625      0.63582516 0.62949346\n",
            " 0.62888072 0.62765523 0.62234477 0.63378268 0.62622549 0.62214052\n",
            " 0.62418301 0.60667551 0.57357901 0.54403478 0.5251922  0.51299161\n",
            " 0.50251019 0.49219611 0.48262843 0.47451508 0.46795925 0.46265081\n",
            " 0.45820692 0.45433596]\n",
            "13 day output [[0.45085174]]\n",
            "14 day input [0.96180556 0.94750817 0.94035948 0.94056373 0.94485294 0.94771242\n",
            " 0.96670752 0.95731209 0.95241013 0.94914216 1.         0.98876634\n",
            " 0.96180556 0.9501634  0.91707516 0.92892157 0.93096405 0.92422386\n",
            " 0.9121732  0.9121732  0.90216503 0.91115196 0.85661765 0.84722222\n",
            " 0.79207516 0.78492647 0.75878268 0.81372549 0.81495098 0.80596405\n",
            " 0.83394608 0.82107843 0.80923203 0.79513889 0.76388889 0.74305556\n",
            " 0.75837418 0.74019608 0.77512255 0.78656046 0.79268791 0.79473039\n",
            " 0.79207516 0.79534314 0.78921569 0.76776961 0.78615196 0.76552288\n",
            " 0.79697712 0.8057598  0.80698529 0.81147876 0.78206699 0.73386438\n",
            " 0.73978758 0.74448529 0.72671569 0.72283497 0.74040033 0.74693627\n",
            " 0.72630719 0.80065359 0.79187092 0.77328431 0.78451797 0.78329248\n",
            " 0.80412582 0.79473039 0.7879902  0.7879902  0.79473039 0.81168301\n",
            " 0.81699346 0.82986111 0.83843954 0.83884804 0.82781863 0.82598039\n",
            " 0.85028595 0.85886438 0.86254085 0.88480392 0.86519608 0.84027778\n",
            " 0.84497549 0.87111928 0.85273693 0.86213235 0.83455882 0.84375\n",
            " 0.71466503 0.66053922 0.65420752 0.68035131 0.6689134  0.66421569\n",
            " 0.67892157 0.69138072 0.70894608 0.72263072 0.73406863 0.72120098\n",
            " 0.74979575 0.7689951  0.74468954 0.7120098  0.74673203 0.75490196\n",
            " 0.76041667 0.75980392 0.74652778 0.76245915 0.77062908 0.80412582\n",
            " 0.78104575 0.79411765 0.76021242 0.73488562 0.72406046 0.73999183\n",
            " 0.74979575 0.76143791 0.75428922 0.74754902 0.76960784 0.7495915\n",
            " 0.81719771 0.80208333 0.77736928 0.75714869 0.79370915 0.79166667\n",
            " 0.77144608 0.75265523 0.72691993 0.6629902  0.68198529 0.64419935\n",
            " 0.62152778 0.6439951  0.66319444 0.67544935 0.63705065 0.64603758\n",
            " 0.65890523 0.65870098 0.67790033 0.63194444 0.63112745 0.62785948\n",
            " 0.64767157 0.63991013 0.63480392 0.63868464 0.62336601 0.62745098\n",
            " 0.63970588 0.64705882 0.66196895 0.67075163 0.65196078 0.63112745\n",
            " 0.61294935 0.6376634  0.62254902 0.62745098 0.63337418 0.62642974\n",
            " 0.63623366 0.58312908 0.57781863 0.57230392 0.58006536 0.57618464\n",
            " 0.55167484 0.57883987 0.625      0.63582516 0.62949346 0.62888072\n",
            " 0.62765523 0.62234477 0.63378268 0.62622549 0.62214052 0.62418301\n",
            " 0.60667551 0.57357901 0.54403478 0.5251922  0.51299161 0.50251019\n",
            " 0.49219611 0.48262843 0.47451508 0.46795925 0.46265081 0.45820692\n",
            " 0.45433596 0.45085174]\n",
            "14 day output [[0.44764027]]\n",
            "15 day input [0.94750817 0.94035948 0.94056373 0.94485294 0.94771242 0.96670752\n",
            " 0.95731209 0.95241013 0.94914216 1.         0.98876634 0.96180556\n",
            " 0.9501634  0.91707516 0.92892157 0.93096405 0.92422386 0.9121732\n",
            " 0.9121732  0.90216503 0.91115196 0.85661765 0.84722222 0.79207516\n",
            " 0.78492647 0.75878268 0.81372549 0.81495098 0.80596405 0.83394608\n",
            " 0.82107843 0.80923203 0.79513889 0.76388889 0.74305556 0.75837418\n",
            " 0.74019608 0.77512255 0.78656046 0.79268791 0.79473039 0.79207516\n",
            " 0.79534314 0.78921569 0.76776961 0.78615196 0.76552288 0.79697712\n",
            " 0.8057598  0.80698529 0.81147876 0.78206699 0.73386438 0.73978758\n",
            " 0.74448529 0.72671569 0.72283497 0.74040033 0.74693627 0.72630719\n",
            " 0.80065359 0.79187092 0.77328431 0.78451797 0.78329248 0.80412582\n",
            " 0.79473039 0.7879902  0.7879902  0.79473039 0.81168301 0.81699346\n",
            " 0.82986111 0.83843954 0.83884804 0.82781863 0.82598039 0.85028595\n",
            " 0.85886438 0.86254085 0.88480392 0.86519608 0.84027778 0.84497549\n",
            " 0.87111928 0.85273693 0.86213235 0.83455882 0.84375    0.71466503\n",
            " 0.66053922 0.65420752 0.68035131 0.6689134  0.66421569 0.67892157\n",
            " 0.69138072 0.70894608 0.72263072 0.73406863 0.72120098 0.74979575\n",
            " 0.7689951  0.74468954 0.7120098  0.74673203 0.75490196 0.76041667\n",
            " 0.75980392 0.74652778 0.76245915 0.77062908 0.80412582 0.78104575\n",
            " 0.79411765 0.76021242 0.73488562 0.72406046 0.73999183 0.74979575\n",
            " 0.76143791 0.75428922 0.74754902 0.76960784 0.7495915  0.81719771\n",
            " 0.80208333 0.77736928 0.75714869 0.79370915 0.79166667 0.77144608\n",
            " 0.75265523 0.72691993 0.6629902  0.68198529 0.64419935 0.62152778\n",
            " 0.6439951  0.66319444 0.67544935 0.63705065 0.64603758 0.65890523\n",
            " 0.65870098 0.67790033 0.63194444 0.63112745 0.62785948 0.64767157\n",
            " 0.63991013 0.63480392 0.63868464 0.62336601 0.62745098 0.63970588\n",
            " 0.64705882 0.66196895 0.67075163 0.65196078 0.63112745 0.61294935\n",
            " 0.6376634  0.62254902 0.62745098 0.63337418 0.62642974 0.63623366\n",
            " 0.58312908 0.57781863 0.57230392 0.58006536 0.57618464 0.55167484\n",
            " 0.57883987 0.625      0.63582516 0.62949346 0.62888072 0.62765523\n",
            " 0.62234477 0.63378268 0.62622549 0.62214052 0.62418301 0.60667551\n",
            " 0.57357901 0.54403478 0.5251922  0.51299161 0.50251019 0.49219611\n",
            " 0.48262843 0.47451508 0.46795925 0.46265081 0.45820692 0.45433596\n",
            " 0.45085174 0.44764027]\n",
            "15 day output [[0.44463092]]\n",
            "16 day input [0.94035948 0.94056373 0.94485294 0.94771242 0.96670752 0.95731209\n",
            " 0.95241013 0.94914216 1.         0.98876634 0.96180556 0.9501634\n",
            " 0.91707516 0.92892157 0.93096405 0.92422386 0.9121732  0.9121732\n",
            " 0.90216503 0.91115196 0.85661765 0.84722222 0.79207516 0.78492647\n",
            " 0.75878268 0.81372549 0.81495098 0.80596405 0.83394608 0.82107843\n",
            " 0.80923203 0.79513889 0.76388889 0.74305556 0.75837418 0.74019608\n",
            " 0.77512255 0.78656046 0.79268791 0.79473039 0.79207516 0.79534314\n",
            " 0.78921569 0.76776961 0.78615196 0.76552288 0.79697712 0.8057598\n",
            " 0.80698529 0.81147876 0.78206699 0.73386438 0.73978758 0.74448529\n",
            " 0.72671569 0.72283497 0.74040033 0.74693627 0.72630719 0.80065359\n",
            " 0.79187092 0.77328431 0.78451797 0.78329248 0.80412582 0.79473039\n",
            " 0.7879902  0.7879902  0.79473039 0.81168301 0.81699346 0.82986111\n",
            " 0.83843954 0.83884804 0.82781863 0.82598039 0.85028595 0.85886438\n",
            " 0.86254085 0.88480392 0.86519608 0.84027778 0.84497549 0.87111928\n",
            " 0.85273693 0.86213235 0.83455882 0.84375    0.71466503 0.66053922\n",
            " 0.65420752 0.68035131 0.6689134  0.66421569 0.67892157 0.69138072\n",
            " 0.70894608 0.72263072 0.73406863 0.72120098 0.74979575 0.7689951\n",
            " 0.74468954 0.7120098  0.74673203 0.75490196 0.76041667 0.75980392\n",
            " 0.74652778 0.76245915 0.77062908 0.80412582 0.78104575 0.79411765\n",
            " 0.76021242 0.73488562 0.72406046 0.73999183 0.74979575 0.76143791\n",
            " 0.75428922 0.74754902 0.76960784 0.7495915  0.81719771 0.80208333\n",
            " 0.77736928 0.75714869 0.79370915 0.79166667 0.77144608 0.75265523\n",
            " 0.72691993 0.6629902  0.68198529 0.64419935 0.62152778 0.6439951\n",
            " 0.66319444 0.67544935 0.63705065 0.64603758 0.65890523 0.65870098\n",
            " 0.67790033 0.63194444 0.63112745 0.62785948 0.64767157 0.63991013\n",
            " 0.63480392 0.63868464 0.62336601 0.62745098 0.63970588 0.64705882\n",
            " 0.66196895 0.67075163 0.65196078 0.63112745 0.61294935 0.6376634\n",
            " 0.62254902 0.62745098 0.63337418 0.62642974 0.63623366 0.58312908\n",
            " 0.57781863 0.57230392 0.58006536 0.57618464 0.55167484 0.57883987\n",
            " 0.625      0.63582516 0.62949346 0.62888072 0.62765523 0.62234477\n",
            " 0.63378268 0.62622549 0.62214052 0.62418301 0.60667551 0.57357901\n",
            " 0.54403478 0.5251922  0.51299161 0.50251019 0.49219611 0.48262843\n",
            " 0.47451508 0.46795925 0.46265081 0.45820692 0.45433596 0.45085174\n",
            " 0.44764027 0.44463092]\n",
            "16 day output [[0.4417803]]\n",
            "17 day input [0.94056373 0.94485294 0.94771242 0.96670752 0.95731209 0.95241013\n",
            " 0.94914216 1.         0.98876634 0.96180556 0.9501634  0.91707516\n",
            " 0.92892157 0.93096405 0.92422386 0.9121732  0.9121732  0.90216503\n",
            " 0.91115196 0.85661765 0.84722222 0.79207516 0.78492647 0.75878268\n",
            " 0.81372549 0.81495098 0.80596405 0.83394608 0.82107843 0.80923203\n",
            " 0.79513889 0.76388889 0.74305556 0.75837418 0.74019608 0.77512255\n",
            " 0.78656046 0.79268791 0.79473039 0.79207516 0.79534314 0.78921569\n",
            " 0.76776961 0.78615196 0.76552288 0.79697712 0.8057598  0.80698529\n",
            " 0.81147876 0.78206699 0.73386438 0.73978758 0.74448529 0.72671569\n",
            " 0.72283497 0.74040033 0.74693627 0.72630719 0.80065359 0.79187092\n",
            " 0.77328431 0.78451797 0.78329248 0.80412582 0.79473039 0.7879902\n",
            " 0.7879902  0.79473039 0.81168301 0.81699346 0.82986111 0.83843954\n",
            " 0.83884804 0.82781863 0.82598039 0.85028595 0.85886438 0.86254085\n",
            " 0.88480392 0.86519608 0.84027778 0.84497549 0.87111928 0.85273693\n",
            " 0.86213235 0.83455882 0.84375    0.71466503 0.66053922 0.65420752\n",
            " 0.68035131 0.6689134  0.66421569 0.67892157 0.69138072 0.70894608\n",
            " 0.72263072 0.73406863 0.72120098 0.74979575 0.7689951  0.74468954\n",
            " 0.7120098  0.74673203 0.75490196 0.76041667 0.75980392 0.74652778\n",
            " 0.76245915 0.77062908 0.80412582 0.78104575 0.79411765 0.76021242\n",
            " 0.73488562 0.72406046 0.73999183 0.74979575 0.76143791 0.75428922\n",
            " 0.74754902 0.76960784 0.7495915  0.81719771 0.80208333 0.77736928\n",
            " 0.75714869 0.79370915 0.79166667 0.77144608 0.75265523 0.72691993\n",
            " 0.6629902  0.68198529 0.64419935 0.62152778 0.6439951  0.66319444\n",
            " 0.67544935 0.63705065 0.64603758 0.65890523 0.65870098 0.67790033\n",
            " 0.63194444 0.63112745 0.62785948 0.64767157 0.63991013 0.63480392\n",
            " 0.63868464 0.62336601 0.62745098 0.63970588 0.64705882 0.66196895\n",
            " 0.67075163 0.65196078 0.63112745 0.61294935 0.6376634  0.62254902\n",
            " 0.62745098 0.63337418 0.62642974 0.63623366 0.58312908 0.57781863\n",
            " 0.57230392 0.58006536 0.57618464 0.55167484 0.57883987 0.625\n",
            " 0.63582516 0.62949346 0.62888072 0.62765523 0.62234477 0.63378268\n",
            " 0.62622549 0.62214052 0.62418301 0.60667551 0.57357901 0.54403478\n",
            " 0.5251922  0.51299161 0.50251019 0.49219611 0.48262843 0.47451508\n",
            " 0.46795925 0.46265081 0.45820692 0.45433596 0.45085174 0.44764027\n",
            " 0.44463092 0.4417803 ]\n",
            "17 day output [[0.439066]]\n",
            "18 day input [0.94485294 0.94771242 0.96670752 0.95731209 0.95241013 0.94914216\n",
            " 1.         0.98876634 0.96180556 0.9501634  0.91707516 0.92892157\n",
            " 0.93096405 0.92422386 0.9121732  0.9121732  0.90216503 0.91115196\n",
            " 0.85661765 0.84722222 0.79207516 0.78492647 0.75878268 0.81372549\n",
            " 0.81495098 0.80596405 0.83394608 0.82107843 0.80923203 0.79513889\n",
            " 0.76388889 0.74305556 0.75837418 0.74019608 0.77512255 0.78656046\n",
            " 0.79268791 0.79473039 0.79207516 0.79534314 0.78921569 0.76776961\n",
            " 0.78615196 0.76552288 0.79697712 0.8057598  0.80698529 0.81147876\n",
            " 0.78206699 0.73386438 0.73978758 0.74448529 0.72671569 0.72283497\n",
            " 0.74040033 0.74693627 0.72630719 0.80065359 0.79187092 0.77328431\n",
            " 0.78451797 0.78329248 0.80412582 0.79473039 0.7879902  0.7879902\n",
            " 0.79473039 0.81168301 0.81699346 0.82986111 0.83843954 0.83884804\n",
            " 0.82781863 0.82598039 0.85028595 0.85886438 0.86254085 0.88480392\n",
            " 0.86519608 0.84027778 0.84497549 0.87111928 0.85273693 0.86213235\n",
            " 0.83455882 0.84375    0.71466503 0.66053922 0.65420752 0.68035131\n",
            " 0.6689134  0.66421569 0.67892157 0.69138072 0.70894608 0.72263072\n",
            " 0.73406863 0.72120098 0.74979575 0.7689951  0.74468954 0.7120098\n",
            " 0.74673203 0.75490196 0.76041667 0.75980392 0.74652778 0.76245915\n",
            " 0.77062908 0.80412582 0.78104575 0.79411765 0.76021242 0.73488562\n",
            " 0.72406046 0.73999183 0.74979575 0.76143791 0.75428922 0.74754902\n",
            " 0.76960784 0.7495915  0.81719771 0.80208333 0.77736928 0.75714869\n",
            " 0.79370915 0.79166667 0.77144608 0.75265523 0.72691993 0.6629902\n",
            " 0.68198529 0.64419935 0.62152778 0.6439951  0.66319444 0.67544935\n",
            " 0.63705065 0.64603758 0.65890523 0.65870098 0.67790033 0.63194444\n",
            " 0.63112745 0.62785948 0.64767157 0.63991013 0.63480392 0.63868464\n",
            " 0.62336601 0.62745098 0.63970588 0.64705882 0.66196895 0.67075163\n",
            " 0.65196078 0.63112745 0.61294935 0.6376634  0.62254902 0.62745098\n",
            " 0.63337418 0.62642974 0.63623366 0.58312908 0.57781863 0.57230392\n",
            " 0.58006536 0.57618464 0.55167484 0.57883987 0.625      0.63582516\n",
            " 0.62949346 0.62888072 0.62765523 0.62234477 0.63378268 0.62622549\n",
            " 0.62214052 0.62418301 0.60667551 0.57357901 0.54403478 0.5251922\n",
            " 0.51299161 0.50251019 0.49219611 0.48262843 0.47451508 0.46795925\n",
            " 0.46265081 0.45820692 0.45433596 0.45085174 0.44764027 0.44463092\n",
            " 0.4417803  0.43906599]\n",
            "18 day output [[0.43648067]]\n",
            "19 day input [0.94771242 0.96670752 0.95731209 0.95241013 0.94914216 1.\n",
            " 0.98876634 0.96180556 0.9501634  0.91707516 0.92892157 0.93096405\n",
            " 0.92422386 0.9121732  0.9121732  0.90216503 0.91115196 0.85661765\n",
            " 0.84722222 0.79207516 0.78492647 0.75878268 0.81372549 0.81495098\n",
            " 0.80596405 0.83394608 0.82107843 0.80923203 0.79513889 0.76388889\n",
            " 0.74305556 0.75837418 0.74019608 0.77512255 0.78656046 0.79268791\n",
            " 0.79473039 0.79207516 0.79534314 0.78921569 0.76776961 0.78615196\n",
            " 0.76552288 0.79697712 0.8057598  0.80698529 0.81147876 0.78206699\n",
            " 0.73386438 0.73978758 0.74448529 0.72671569 0.72283497 0.74040033\n",
            " 0.74693627 0.72630719 0.80065359 0.79187092 0.77328431 0.78451797\n",
            " 0.78329248 0.80412582 0.79473039 0.7879902  0.7879902  0.79473039\n",
            " 0.81168301 0.81699346 0.82986111 0.83843954 0.83884804 0.82781863\n",
            " 0.82598039 0.85028595 0.85886438 0.86254085 0.88480392 0.86519608\n",
            " 0.84027778 0.84497549 0.87111928 0.85273693 0.86213235 0.83455882\n",
            " 0.84375    0.71466503 0.66053922 0.65420752 0.68035131 0.6689134\n",
            " 0.66421569 0.67892157 0.69138072 0.70894608 0.72263072 0.73406863\n",
            " 0.72120098 0.74979575 0.7689951  0.74468954 0.7120098  0.74673203\n",
            " 0.75490196 0.76041667 0.75980392 0.74652778 0.76245915 0.77062908\n",
            " 0.80412582 0.78104575 0.79411765 0.76021242 0.73488562 0.72406046\n",
            " 0.73999183 0.74979575 0.76143791 0.75428922 0.74754902 0.76960784\n",
            " 0.7495915  0.81719771 0.80208333 0.77736928 0.75714869 0.79370915\n",
            " 0.79166667 0.77144608 0.75265523 0.72691993 0.6629902  0.68198529\n",
            " 0.64419935 0.62152778 0.6439951  0.66319444 0.67544935 0.63705065\n",
            " 0.64603758 0.65890523 0.65870098 0.67790033 0.63194444 0.63112745\n",
            " 0.62785948 0.64767157 0.63991013 0.63480392 0.63868464 0.62336601\n",
            " 0.62745098 0.63970588 0.64705882 0.66196895 0.67075163 0.65196078\n",
            " 0.63112745 0.61294935 0.6376634  0.62254902 0.62745098 0.63337418\n",
            " 0.62642974 0.63623366 0.58312908 0.57781863 0.57230392 0.58006536\n",
            " 0.57618464 0.55167484 0.57883987 0.625      0.63582516 0.62949346\n",
            " 0.62888072 0.62765523 0.62234477 0.63378268 0.62622549 0.62214052\n",
            " 0.62418301 0.60667551 0.57357901 0.54403478 0.5251922  0.51299161\n",
            " 0.50251019 0.49219611 0.48262843 0.47451508 0.46795925 0.46265081\n",
            " 0.45820692 0.45433596 0.45085174 0.44764027 0.44463092 0.4417803\n",
            " 0.43906599 0.43648067]\n",
            "19 day output [[0.43402782]]\n",
            "20 day input [0.96670752 0.95731209 0.95241013 0.94914216 1.         0.98876634\n",
            " 0.96180556 0.9501634  0.91707516 0.92892157 0.93096405 0.92422386\n",
            " 0.9121732  0.9121732  0.90216503 0.91115196 0.85661765 0.84722222\n",
            " 0.79207516 0.78492647 0.75878268 0.81372549 0.81495098 0.80596405\n",
            " 0.83394608 0.82107843 0.80923203 0.79513889 0.76388889 0.74305556\n",
            " 0.75837418 0.74019608 0.77512255 0.78656046 0.79268791 0.79473039\n",
            " 0.79207516 0.79534314 0.78921569 0.76776961 0.78615196 0.76552288\n",
            " 0.79697712 0.8057598  0.80698529 0.81147876 0.78206699 0.73386438\n",
            " 0.73978758 0.74448529 0.72671569 0.72283497 0.74040033 0.74693627\n",
            " 0.72630719 0.80065359 0.79187092 0.77328431 0.78451797 0.78329248\n",
            " 0.80412582 0.79473039 0.7879902  0.7879902  0.79473039 0.81168301\n",
            " 0.81699346 0.82986111 0.83843954 0.83884804 0.82781863 0.82598039\n",
            " 0.85028595 0.85886438 0.86254085 0.88480392 0.86519608 0.84027778\n",
            " 0.84497549 0.87111928 0.85273693 0.86213235 0.83455882 0.84375\n",
            " 0.71466503 0.66053922 0.65420752 0.68035131 0.6689134  0.66421569\n",
            " 0.67892157 0.69138072 0.70894608 0.72263072 0.73406863 0.72120098\n",
            " 0.74979575 0.7689951  0.74468954 0.7120098  0.74673203 0.75490196\n",
            " 0.76041667 0.75980392 0.74652778 0.76245915 0.77062908 0.80412582\n",
            " 0.78104575 0.79411765 0.76021242 0.73488562 0.72406046 0.73999183\n",
            " 0.74979575 0.76143791 0.75428922 0.74754902 0.76960784 0.7495915\n",
            " 0.81719771 0.80208333 0.77736928 0.75714869 0.79370915 0.79166667\n",
            " 0.77144608 0.75265523 0.72691993 0.6629902  0.68198529 0.64419935\n",
            " 0.62152778 0.6439951  0.66319444 0.67544935 0.63705065 0.64603758\n",
            " 0.65890523 0.65870098 0.67790033 0.63194444 0.63112745 0.62785948\n",
            " 0.64767157 0.63991013 0.63480392 0.63868464 0.62336601 0.62745098\n",
            " 0.63970588 0.64705882 0.66196895 0.67075163 0.65196078 0.63112745\n",
            " 0.61294935 0.6376634  0.62254902 0.62745098 0.63337418 0.62642974\n",
            " 0.63623366 0.58312908 0.57781863 0.57230392 0.58006536 0.57618464\n",
            " 0.55167484 0.57883987 0.625      0.63582516 0.62949346 0.62888072\n",
            " 0.62765523 0.62234477 0.63378268 0.62622549 0.62214052 0.62418301\n",
            " 0.60667551 0.57357901 0.54403478 0.5251922  0.51299161 0.50251019\n",
            " 0.49219611 0.48262843 0.47451508 0.46795925 0.46265081 0.45820692\n",
            " 0.45433596 0.45085174 0.44764027 0.44463092 0.4417803  0.43906599\n",
            " 0.43648067 0.43402782]\n",
            "20 day output [[0.43171558]]\n",
            "21 day input [0.95731209 0.95241013 0.94914216 1.         0.98876634 0.96180556\n",
            " 0.9501634  0.91707516 0.92892157 0.93096405 0.92422386 0.9121732\n",
            " 0.9121732  0.90216503 0.91115196 0.85661765 0.84722222 0.79207516\n",
            " 0.78492647 0.75878268 0.81372549 0.81495098 0.80596405 0.83394608\n",
            " 0.82107843 0.80923203 0.79513889 0.76388889 0.74305556 0.75837418\n",
            " 0.74019608 0.77512255 0.78656046 0.79268791 0.79473039 0.79207516\n",
            " 0.79534314 0.78921569 0.76776961 0.78615196 0.76552288 0.79697712\n",
            " 0.8057598  0.80698529 0.81147876 0.78206699 0.73386438 0.73978758\n",
            " 0.74448529 0.72671569 0.72283497 0.74040033 0.74693627 0.72630719\n",
            " 0.80065359 0.79187092 0.77328431 0.78451797 0.78329248 0.80412582\n",
            " 0.79473039 0.7879902  0.7879902  0.79473039 0.81168301 0.81699346\n",
            " 0.82986111 0.83843954 0.83884804 0.82781863 0.82598039 0.85028595\n",
            " 0.85886438 0.86254085 0.88480392 0.86519608 0.84027778 0.84497549\n",
            " 0.87111928 0.85273693 0.86213235 0.83455882 0.84375    0.71466503\n",
            " 0.66053922 0.65420752 0.68035131 0.6689134  0.66421569 0.67892157\n",
            " 0.69138072 0.70894608 0.72263072 0.73406863 0.72120098 0.74979575\n",
            " 0.7689951  0.74468954 0.7120098  0.74673203 0.75490196 0.76041667\n",
            " 0.75980392 0.74652778 0.76245915 0.77062908 0.80412582 0.78104575\n",
            " 0.79411765 0.76021242 0.73488562 0.72406046 0.73999183 0.74979575\n",
            " 0.76143791 0.75428922 0.74754902 0.76960784 0.7495915  0.81719771\n",
            " 0.80208333 0.77736928 0.75714869 0.79370915 0.79166667 0.77144608\n",
            " 0.75265523 0.72691993 0.6629902  0.68198529 0.64419935 0.62152778\n",
            " 0.6439951  0.66319444 0.67544935 0.63705065 0.64603758 0.65890523\n",
            " 0.65870098 0.67790033 0.63194444 0.63112745 0.62785948 0.64767157\n",
            " 0.63991013 0.63480392 0.63868464 0.62336601 0.62745098 0.63970588\n",
            " 0.64705882 0.66196895 0.67075163 0.65196078 0.63112745 0.61294935\n",
            " 0.6376634  0.62254902 0.62745098 0.63337418 0.62642974 0.63623366\n",
            " 0.58312908 0.57781863 0.57230392 0.58006536 0.57618464 0.55167484\n",
            " 0.57883987 0.625      0.63582516 0.62949346 0.62888072 0.62765523\n",
            " 0.62234477 0.63378268 0.62622549 0.62214052 0.62418301 0.60667551\n",
            " 0.57357901 0.54403478 0.5251922  0.51299161 0.50251019 0.49219611\n",
            " 0.48262843 0.47451508 0.46795925 0.46265081 0.45820692 0.45433596\n",
            " 0.45085174 0.44764027 0.44463092 0.4417803  0.43906599 0.43648067\n",
            " 0.43402782 0.43171558]\n",
            "21 day output [[0.4295523]]\n",
            "22 day input [0.95241013 0.94914216 1.         0.98876634 0.96180556 0.9501634\n",
            " 0.91707516 0.92892157 0.93096405 0.92422386 0.9121732  0.9121732\n",
            " 0.90216503 0.91115196 0.85661765 0.84722222 0.79207516 0.78492647\n",
            " 0.75878268 0.81372549 0.81495098 0.80596405 0.83394608 0.82107843\n",
            " 0.80923203 0.79513889 0.76388889 0.74305556 0.75837418 0.74019608\n",
            " 0.77512255 0.78656046 0.79268791 0.79473039 0.79207516 0.79534314\n",
            " 0.78921569 0.76776961 0.78615196 0.76552288 0.79697712 0.8057598\n",
            " 0.80698529 0.81147876 0.78206699 0.73386438 0.73978758 0.74448529\n",
            " 0.72671569 0.72283497 0.74040033 0.74693627 0.72630719 0.80065359\n",
            " 0.79187092 0.77328431 0.78451797 0.78329248 0.80412582 0.79473039\n",
            " 0.7879902  0.7879902  0.79473039 0.81168301 0.81699346 0.82986111\n",
            " 0.83843954 0.83884804 0.82781863 0.82598039 0.85028595 0.85886438\n",
            " 0.86254085 0.88480392 0.86519608 0.84027778 0.84497549 0.87111928\n",
            " 0.85273693 0.86213235 0.83455882 0.84375    0.71466503 0.66053922\n",
            " 0.65420752 0.68035131 0.6689134  0.66421569 0.67892157 0.69138072\n",
            " 0.70894608 0.72263072 0.73406863 0.72120098 0.74979575 0.7689951\n",
            " 0.74468954 0.7120098  0.74673203 0.75490196 0.76041667 0.75980392\n",
            " 0.74652778 0.76245915 0.77062908 0.80412582 0.78104575 0.79411765\n",
            " 0.76021242 0.73488562 0.72406046 0.73999183 0.74979575 0.76143791\n",
            " 0.75428922 0.74754902 0.76960784 0.7495915  0.81719771 0.80208333\n",
            " 0.77736928 0.75714869 0.79370915 0.79166667 0.77144608 0.75265523\n",
            " 0.72691993 0.6629902  0.68198529 0.64419935 0.62152778 0.6439951\n",
            " 0.66319444 0.67544935 0.63705065 0.64603758 0.65890523 0.65870098\n",
            " 0.67790033 0.63194444 0.63112745 0.62785948 0.64767157 0.63991013\n",
            " 0.63480392 0.63868464 0.62336601 0.62745098 0.63970588 0.64705882\n",
            " 0.66196895 0.67075163 0.65196078 0.63112745 0.61294935 0.6376634\n",
            " 0.62254902 0.62745098 0.63337418 0.62642974 0.63623366 0.58312908\n",
            " 0.57781863 0.57230392 0.58006536 0.57618464 0.55167484 0.57883987\n",
            " 0.625      0.63582516 0.62949346 0.62888072 0.62765523 0.62234477\n",
            " 0.63378268 0.62622549 0.62214052 0.62418301 0.60667551 0.57357901\n",
            " 0.54403478 0.5251922  0.51299161 0.50251019 0.49219611 0.48262843\n",
            " 0.47451508 0.46795925 0.46265081 0.45820692 0.45433596 0.45085174\n",
            " 0.44764027 0.44463092 0.4417803  0.43906599 0.43648067 0.43402782\n",
            " 0.43171558 0.42955229]\n",
            "22 day output [[0.42754328]]\n",
            "23 day input [0.94914216 1.         0.98876634 0.96180556 0.9501634  0.91707516\n",
            " 0.92892157 0.93096405 0.92422386 0.9121732  0.9121732  0.90216503\n",
            " 0.91115196 0.85661765 0.84722222 0.79207516 0.78492647 0.75878268\n",
            " 0.81372549 0.81495098 0.80596405 0.83394608 0.82107843 0.80923203\n",
            " 0.79513889 0.76388889 0.74305556 0.75837418 0.74019608 0.77512255\n",
            " 0.78656046 0.79268791 0.79473039 0.79207516 0.79534314 0.78921569\n",
            " 0.76776961 0.78615196 0.76552288 0.79697712 0.8057598  0.80698529\n",
            " 0.81147876 0.78206699 0.73386438 0.73978758 0.74448529 0.72671569\n",
            " 0.72283497 0.74040033 0.74693627 0.72630719 0.80065359 0.79187092\n",
            " 0.77328431 0.78451797 0.78329248 0.80412582 0.79473039 0.7879902\n",
            " 0.7879902  0.79473039 0.81168301 0.81699346 0.82986111 0.83843954\n",
            " 0.83884804 0.82781863 0.82598039 0.85028595 0.85886438 0.86254085\n",
            " 0.88480392 0.86519608 0.84027778 0.84497549 0.87111928 0.85273693\n",
            " 0.86213235 0.83455882 0.84375    0.71466503 0.66053922 0.65420752\n",
            " 0.68035131 0.6689134  0.66421569 0.67892157 0.69138072 0.70894608\n",
            " 0.72263072 0.73406863 0.72120098 0.74979575 0.7689951  0.74468954\n",
            " 0.7120098  0.74673203 0.75490196 0.76041667 0.75980392 0.74652778\n",
            " 0.76245915 0.77062908 0.80412582 0.78104575 0.79411765 0.76021242\n",
            " 0.73488562 0.72406046 0.73999183 0.74979575 0.76143791 0.75428922\n",
            " 0.74754902 0.76960784 0.7495915  0.81719771 0.80208333 0.77736928\n",
            " 0.75714869 0.79370915 0.79166667 0.77144608 0.75265523 0.72691993\n",
            " 0.6629902  0.68198529 0.64419935 0.62152778 0.6439951  0.66319444\n",
            " 0.67544935 0.63705065 0.64603758 0.65890523 0.65870098 0.67790033\n",
            " 0.63194444 0.63112745 0.62785948 0.64767157 0.63991013 0.63480392\n",
            " 0.63868464 0.62336601 0.62745098 0.63970588 0.64705882 0.66196895\n",
            " 0.67075163 0.65196078 0.63112745 0.61294935 0.6376634  0.62254902\n",
            " 0.62745098 0.63337418 0.62642974 0.63623366 0.58312908 0.57781863\n",
            " 0.57230392 0.58006536 0.57618464 0.55167484 0.57883987 0.625\n",
            " 0.63582516 0.62949346 0.62888072 0.62765523 0.62234477 0.63378268\n",
            " 0.62622549 0.62214052 0.62418301 0.60667551 0.57357901 0.54403478\n",
            " 0.5251922  0.51299161 0.50251019 0.49219611 0.48262843 0.47451508\n",
            " 0.46795925 0.46265081 0.45820692 0.45433596 0.45085174 0.44764027\n",
            " 0.44463092 0.4417803  0.43906599 0.43648067 0.43402782 0.43171558\n",
            " 0.42955229 0.42754328]\n",
            "23 day output [[0.4256888]]\n",
            "24 day input [1.         0.98876634 0.96180556 0.9501634  0.91707516 0.92892157\n",
            " 0.93096405 0.92422386 0.9121732  0.9121732  0.90216503 0.91115196\n",
            " 0.85661765 0.84722222 0.79207516 0.78492647 0.75878268 0.81372549\n",
            " 0.81495098 0.80596405 0.83394608 0.82107843 0.80923203 0.79513889\n",
            " 0.76388889 0.74305556 0.75837418 0.74019608 0.77512255 0.78656046\n",
            " 0.79268791 0.79473039 0.79207516 0.79534314 0.78921569 0.76776961\n",
            " 0.78615196 0.76552288 0.79697712 0.8057598  0.80698529 0.81147876\n",
            " 0.78206699 0.73386438 0.73978758 0.74448529 0.72671569 0.72283497\n",
            " 0.74040033 0.74693627 0.72630719 0.80065359 0.79187092 0.77328431\n",
            " 0.78451797 0.78329248 0.80412582 0.79473039 0.7879902  0.7879902\n",
            " 0.79473039 0.81168301 0.81699346 0.82986111 0.83843954 0.83884804\n",
            " 0.82781863 0.82598039 0.85028595 0.85886438 0.86254085 0.88480392\n",
            " 0.86519608 0.84027778 0.84497549 0.87111928 0.85273693 0.86213235\n",
            " 0.83455882 0.84375    0.71466503 0.66053922 0.65420752 0.68035131\n",
            " 0.6689134  0.66421569 0.67892157 0.69138072 0.70894608 0.72263072\n",
            " 0.73406863 0.72120098 0.74979575 0.7689951  0.74468954 0.7120098\n",
            " 0.74673203 0.75490196 0.76041667 0.75980392 0.74652778 0.76245915\n",
            " 0.77062908 0.80412582 0.78104575 0.79411765 0.76021242 0.73488562\n",
            " 0.72406046 0.73999183 0.74979575 0.76143791 0.75428922 0.74754902\n",
            " 0.76960784 0.7495915  0.81719771 0.80208333 0.77736928 0.75714869\n",
            " 0.79370915 0.79166667 0.77144608 0.75265523 0.72691993 0.6629902\n",
            " 0.68198529 0.64419935 0.62152778 0.6439951  0.66319444 0.67544935\n",
            " 0.63705065 0.64603758 0.65890523 0.65870098 0.67790033 0.63194444\n",
            " 0.63112745 0.62785948 0.64767157 0.63991013 0.63480392 0.63868464\n",
            " 0.62336601 0.62745098 0.63970588 0.64705882 0.66196895 0.67075163\n",
            " 0.65196078 0.63112745 0.61294935 0.6376634  0.62254902 0.62745098\n",
            " 0.63337418 0.62642974 0.63623366 0.58312908 0.57781863 0.57230392\n",
            " 0.58006536 0.57618464 0.55167484 0.57883987 0.625      0.63582516\n",
            " 0.62949346 0.62888072 0.62765523 0.62234477 0.63378268 0.62622549\n",
            " 0.62214052 0.62418301 0.60667551 0.57357901 0.54403478 0.5251922\n",
            " 0.51299161 0.50251019 0.49219611 0.48262843 0.47451508 0.46795925\n",
            " 0.46265081 0.45820692 0.45433596 0.45085174 0.44764027 0.44463092\n",
            " 0.4417803  0.43906599 0.43648067 0.43402782 0.43171558 0.42955229\n",
            " 0.42754328 0.4256888 ]\n",
            "24 day output [[0.42398357]]\n",
            "25 day input [0.98876634 0.96180556 0.9501634  0.91707516 0.92892157 0.93096405\n",
            " 0.92422386 0.9121732  0.9121732  0.90216503 0.91115196 0.85661765\n",
            " 0.84722222 0.79207516 0.78492647 0.75878268 0.81372549 0.81495098\n",
            " 0.80596405 0.83394608 0.82107843 0.80923203 0.79513889 0.76388889\n",
            " 0.74305556 0.75837418 0.74019608 0.77512255 0.78656046 0.79268791\n",
            " 0.79473039 0.79207516 0.79534314 0.78921569 0.76776961 0.78615196\n",
            " 0.76552288 0.79697712 0.8057598  0.80698529 0.81147876 0.78206699\n",
            " 0.73386438 0.73978758 0.74448529 0.72671569 0.72283497 0.74040033\n",
            " 0.74693627 0.72630719 0.80065359 0.79187092 0.77328431 0.78451797\n",
            " 0.78329248 0.80412582 0.79473039 0.7879902  0.7879902  0.79473039\n",
            " 0.81168301 0.81699346 0.82986111 0.83843954 0.83884804 0.82781863\n",
            " 0.82598039 0.85028595 0.85886438 0.86254085 0.88480392 0.86519608\n",
            " 0.84027778 0.84497549 0.87111928 0.85273693 0.86213235 0.83455882\n",
            " 0.84375    0.71466503 0.66053922 0.65420752 0.68035131 0.6689134\n",
            " 0.66421569 0.67892157 0.69138072 0.70894608 0.72263072 0.73406863\n",
            " 0.72120098 0.74979575 0.7689951  0.74468954 0.7120098  0.74673203\n",
            " 0.75490196 0.76041667 0.75980392 0.74652778 0.76245915 0.77062908\n",
            " 0.80412582 0.78104575 0.79411765 0.76021242 0.73488562 0.72406046\n",
            " 0.73999183 0.74979575 0.76143791 0.75428922 0.74754902 0.76960784\n",
            " 0.7495915  0.81719771 0.80208333 0.77736928 0.75714869 0.79370915\n",
            " 0.79166667 0.77144608 0.75265523 0.72691993 0.6629902  0.68198529\n",
            " 0.64419935 0.62152778 0.6439951  0.66319444 0.67544935 0.63705065\n",
            " 0.64603758 0.65890523 0.65870098 0.67790033 0.63194444 0.63112745\n",
            " 0.62785948 0.64767157 0.63991013 0.63480392 0.63868464 0.62336601\n",
            " 0.62745098 0.63970588 0.64705882 0.66196895 0.67075163 0.65196078\n",
            " 0.63112745 0.61294935 0.6376634  0.62254902 0.62745098 0.63337418\n",
            " 0.62642974 0.63623366 0.58312908 0.57781863 0.57230392 0.58006536\n",
            " 0.57618464 0.55167484 0.57883987 0.625      0.63582516 0.62949346\n",
            " 0.62888072 0.62765523 0.62234477 0.63378268 0.62622549 0.62214052\n",
            " 0.62418301 0.60667551 0.57357901 0.54403478 0.5251922  0.51299161\n",
            " 0.50251019 0.49219611 0.48262843 0.47451508 0.46795925 0.46265081\n",
            " 0.45820692 0.45433596 0.45085174 0.44764027 0.44463092 0.4417803\n",
            " 0.43906599 0.43648067 0.43402782 0.43171558 0.42955229 0.42754328\n",
            " 0.4256888  0.42398357]\n",
            "25 day output [[0.42241704]]\n",
            "26 day input [0.96180556 0.9501634  0.91707516 0.92892157 0.93096405 0.92422386\n",
            " 0.9121732  0.9121732  0.90216503 0.91115196 0.85661765 0.84722222\n",
            " 0.79207516 0.78492647 0.75878268 0.81372549 0.81495098 0.80596405\n",
            " 0.83394608 0.82107843 0.80923203 0.79513889 0.76388889 0.74305556\n",
            " 0.75837418 0.74019608 0.77512255 0.78656046 0.79268791 0.79473039\n",
            " 0.79207516 0.79534314 0.78921569 0.76776961 0.78615196 0.76552288\n",
            " 0.79697712 0.8057598  0.80698529 0.81147876 0.78206699 0.73386438\n",
            " 0.73978758 0.74448529 0.72671569 0.72283497 0.74040033 0.74693627\n",
            " 0.72630719 0.80065359 0.79187092 0.77328431 0.78451797 0.78329248\n",
            " 0.80412582 0.79473039 0.7879902  0.7879902  0.79473039 0.81168301\n",
            " 0.81699346 0.82986111 0.83843954 0.83884804 0.82781863 0.82598039\n",
            " 0.85028595 0.85886438 0.86254085 0.88480392 0.86519608 0.84027778\n",
            " 0.84497549 0.87111928 0.85273693 0.86213235 0.83455882 0.84375\n",
            " 0.71466503 0.66053922 0.65420752 0.68035131 0.6689134  0.66421569\n",
            " 0.67892157 0.69138072 0.70894608 0.72263072 0.73406863 0.72120098\n",
            " 0.74979575 0.7689951  0.74468954 0.7120098  0.74673203 0.75490196\n",
            " 0.76041667 0.75980392 0.74652778 0.76245915 0.77062908 0.80412582\n",
            " 0.78104575 0.79411765 0.76021242 0.73488562 0.72406046 0.73999183\n",
            " 0.74979575 0.76143791 0.75428922 0.74754902 0.76960784 0.7495915\n",
            " 0.81719771 0.80208333 0.77736928 0.75714869 0.79370915 0.79166667\n",
            " 0.77144608 0.75265523 0.72691993 0.6629902  0.68198529 0.64419935\n",
            " 0.62152778 0.6439951  0.66319444 0.67544935 0.63705065 0.64603758\n",
            " 0.65890523 0.65870098 0.67790033 0.63194444 0.63112745 0.62785948\n",
            " 0.64767157 0.63991013 0.63480392 0.63868464 0.62336601 0.62745098\n",
            " 0.63970588 0.64705882 0.66196895 0.67075163 0.65196078 0.63112745\n",
            " 0.61294935 0.6376634  0.62254902 0.62745098 0.63337418 0.62642974\n",
            " 0.63623366 0.58312908 0.57781863 0.57230392 0.58006536 0.57618464\n",
            " 0.55167484 0.57883987 0.625      0.63582516 0.62949346 0.62888072\n",
            " 0.62765523 0.62234477 0.63378268 0.62622549 0.62214052 0.62418301\n",
            " 0.60667551 0.57357901 0.54403478 0.5251922  0.51299161 0.50251019\n",
            " 0.49219611 0.48262843 0.47451508 0.46795925 0.46265081 0.45820692\n",
            " 0.45433596 0.45085174 0.44764027 0.44463092 0.4417803  0.43906599\n",
            " 0.43648067 0.43402782 0.43171558 0.42955229 0.42754328 0.4256888\n",
            " 0.42398357 0.42241704]\n",
            "26 day output [[0.420974]]\n",
            "27 day input [0.9501634  0.91707516 0.92892157 0.93096405 0.92422386 0.9121732\n",
            " 0.9121732  0.90216503 0.91115196 0.85661765 0.84722222 0.79207516\n",
            " 0.78492647 0.75878268 0.81372549 0.81495098 0.80596405 0.83394608\n",
            " 0.82107843 0.80923203 0.79513889 0.76388889 0.74305556 0.75837418\n",
            " 0.74019608 0.77512255 0.78656046 0.79268791 0.79473039 0.79207516\n",
            " 0.79534314 0.78921569 0.76776961 0.78615196 0.76552288 0.79697712\n",
            " 0.8057598  0.80698529 0.81147876 0.78206699 0.73386438 0.73978758\n",
            " 0.74448529 0.72671569 0.72283497 0.74040033 0.74693627 0.72630719\n",
            " 0.80065359 0.79187092 0.77328431 0.78451797 0.78329248 0.80412582\n",
            " 0.79473039 0.7879902  0.7879902  0.79473039 0.81168301 0.81699346\n",
            " 0.82986111 0.83843954 0.83884804 0.82781863 0.82598039 0.85028595\n",
            " 0.85886438 0.86254085 0.88480392 0.86519608 0.84027778 0.84497549\n",
            " 0.87111928 0.85273693 0.86213235 0.83455882 0.84375    0.71466503\n",
            " 0.66053922 0.65420752 0.68035131 0.6689134  0.66421569 0.67892157\n",
            " 0.69138072 0.70894608 0.72263072 0.73406863 0.72120098 0.74979575\n",
            " 0.7689951  0.74468954 0.7120098  0.74673203 0.75490196 0.76041667\n",
            " 0.75980392 0.74652778 0.76245915 0.77062908 0.80412582 0.78104575\n",
            " 0.79411765 0.76021242 0.73488562 0.72406046 0.73999183 0.74979575\n",
            " 0.76143791 0.75428922 0.74754902 0.76960784 0.7495915  0.81719771\n",
            " 0.80208333 0.77736928 0.75714869 0.79370915 0.79166667 0.77144608\n",
            " 0.75265523 0.72691993 0.6629902  0.68198529 0.64419935 0.62152778\n",
            " 0.6439951  0.66319444 0.67544935 0.63705065 0.64603758 0.65890523\n",
            " 0.65870098 0.67790033 0.63194444 0.63112745 0.62785948 0.64767157\n",
            " 0.63991013 0.63480392 0.63868464 0.62336601 0.62745098 0.63970588\n",
            " 0.64705882 0.66196895 0.67075163 0.65196078 0.63112745 0.61294935\n",
            " 0.6376634  0.62254902 0.62745098 0.63337418 0.62642974 0.63623366\n",
            " 0.58312908 0.57781863 0.57230392 0.58006536 0.57618464 0.55167484\n",
            " 0.57883987 0.625      0.63582516 0.62949346 0.62888072 0.62765523\n",
            " 0.62234477 0.63378268 0.62622549 0.62214052 0.62418301 0.60667551\n",
            " 0.57357901 0.54403478 0.5251922  0.51299161 0.50251019 0.49219611\n",
            " 0.48262843 0.47451508 0.46795925 0.46265081 0.45820692 0.45433596\n",
            " 0.45085174 0.44764027 0.44463092 0.4417803  0.43906599 0.43648067\n",
            " 0.43402782 0.43171558 0.42955229 0.42754328 0.4256888  0.42398357\n",
            " 0.42241704 0.42097399]\n",
            "27 day output [[0.4196364]]\n",
            "28 day input [0.91707516 0.92892157 0.93096405 0.92422386 0.9121732  0.9121732\n",
            " 0.90216503 0.91115196 0.85661765 0.84722222 0.79207516 0.78492647\n",
            " 0.75878268 0.81372549 0.81495098 0.80596405 0.83394608 0.82107843\n",
            " 0.80923203 0.79513889 0.76388889 0.74305556 0.75837418 0.74019608\n",
            " 0.77512255 0.78656046 0.79268791 0.79473039 0.79207516 0.79534314\n",
            " 0.78921569 0.76776961 0.78615196 0.76552288 0.79697712 0.8057598\n",
            " 0.80698529 0.81147876 0.78206699 0.73386438 0.73978758 0.74448529\n",
            " 0.72671569 0.72283497 0.74040033 0.74693627 0.72630719 0.80065359\n",
            " 0.79187092 0.77328431 0.78451797 0.78329248 0.80412582 0.79473039\n",
            " 0.7879902  0.7879902  0.79473039 0.81168301 0.81699346 0.82986111\n",
            " 0.83843954 0.83884804 0.82781863 0.82598039 0.85028595 0.85886438\n",
            " 0.86254085 0.88480392 0.86519608 0.84027778 0.84497549 0.87111928\n",
            " 0.85273693 0.86213235 0.83455882 0.84375    0.71466503 0.66053922\n",
            " 0.65420752 0.68035131 0.6689134  0.66421569 0.67892157 0.69138072\n",
            " 0.70894608 0.72263072 0.73406863 0.72120098 0.74979575 0.7689951\n",
            " 0.74468954 0.7120098  0.74673203 0.75490196 0.76041667 0.75980392\n",
            " 0.74652778 0.76245915 0.77062908 0.80412582 0.78104575 0.79411765\n",
            " 0.76021242 0.73488562 0.72406046 0.73999183 0.74979575 0.76143791\n",
            " 0.75428922 0.74754902 0.76960784 0.7495915  0.81719771 0.80208333\n",
            " 0.77736928 0.75714869 0.79370915 0.79166667 0.77144608 0.75265523\n",
            " 0.72691993 0.6629902  0.68198529 0.64419935 0.62152778 0.6439951\n",
            " 0.66319444 0.67544935 0.63705065 0.64603758 0.65890523 0.65870098\n",
            " 0.67790033 0.63194444 0.63112745 0.62785948 0.64767157 0.63991013\n",
            " 0.63480392 0.63868464 0.62336601 0.62745098 0.63970588 0.64705882\n",
            " 0.66196895 0.67075163 0.65196078 0.63112745 0.61294935 0.6376634\n",
            " 0.62254902 0.62745098 0.63337418 0.62642974 0.63623366 0.58312908\n",
            " 0.57781863 0.57230392 0.58006536 0.57618464 0.55167484 0.57883987\n",
            " 0.625      0.63582516 0.62949346 0.62888072 0.62765523 0.62234477\n",
            " 0.63378268 0.62622549 0.62214052 0.62418301 0.60667551 0.57357901\n",
            " 0.54403478 0.5251922  0.51299161 0.50251019 0.49219611 0.48262843\n",
            " 0.47451508 0.46795925 0.46265081 0.45820692 0.45433596 0.45085174\n",
            " 0.44764027 0.44463092 0.4417803  0.43906599 0.43648067 0.43402782\n",
            " 0.43171558 0.42955229 0.42754328 0.4256888  0.42398357 0.42241704\n",
            " 0.42097399 0.4196364 ]\n",
            "28 day output [[0.41838425]]\n",
            "29 day input [0.92892157 0.93096405 0.92422386 0.9121732  0.9121732  0.90216503\n",
            " 0.91115196 0.85661765 0.84722222 0.79207516 0.78492647 0.75878268\n",
            " 0.81372549 0.81495098 0.80596405 0.83394608 0.82107843 0.80923203\n",
            " 0.79513889 0.76388889 0.74305556 0.75837418 0.74019608 0.77512255\n",
            " 0.78656046 0.79268791 0.79473039 0.79207516 0.79534314 0.78921569\n",
            " 0.76776961 0.78615196 0.76552288 0.79697712 0.8057598  0.80698529\n",
            " 0.81147876 0.78206699 0.73386438 0.73978758 0.74448529 0.72671569\n",
            " 0.72283497 0.74040033 0.74693627 0.72630719 0.80065359 0.79187092\n",
            " 0.77328431 0.78451797 0.78329248 0.80412582 0.79473039 0.7879902\n",
            " 0.7879902  0.79473039 0.81168301 0.81699346 0.82986111 0.83843954\n",
            " 0.83884804 0.82781863 0.82598039 0.85028595 0.85886438 0.86254085\n",
            " 0.88480392 0.86519608 0.84027778 0.84497549 0.87111928 0.85273693\n",
            " 0.86213235 0.83455882 0.84375    0.71466503 0.66053922 0.65420752\n",
            " 0.68035131 0.6689134  0.66421569 0.67892157 0.69138072 0.70894608\n",
            " 0.72263072 0.73406863 0.72120098 0.74979575 0.7689951  0.74468954\n",
            " 0.7120098  0.74673203 0.75490196 0.76041667 0.75980392 0.74652778\n",
            " 0.76245915 0.77062908 0.80412582 0.78104575 0.79411765 0.76021242\n",
            " 0.73488562 0.72406046 0.73999183 0.74979575 0.76143791 0.75428922\n",
            " 0.74754902 0.76960784 0.7495915  0.81719771 0.80208333 0.77736928\n",
            " 0.75714869 0.79370915 0.79166667 0.77144608 0.75265523 0.72691993\n",
            " 0.6629902  0.68198529 0.64419935 0.62152778 0.6439951  0.66319444\n",
            " 0.67544935 0.63705065 0.64603758 0.65890523 0.65870098 0.67790033\n",
            " 0.63194444 0.63112745 0.62785948 0.64767157 0.63991013 0.63480392\n",
            " 0.63868464 0.62336601 0.62745098 0.63970588 0.64705882 0.66196895\n",
            " 0.67075163 0.65196078 0.63112745 0.61294935 0.6376634  0.62254902\n",
            " 0.62745098 0.63337418 0.62642974 0.63623366 0.58312908 0.57781863\n",
            " 0.57230392 0.58006536 0.57618464 0.55167484 0.57883987 0.625\n",
            " 0.63582516 0.62949346 0.62888072 0.62765523 0.62234477 0.63378268\n",
            " 0.62622549 0.62214052 0.62418301 0.60667551 0.57357901 0.54403478\n",
            " 0.5251922  0.51299161 0.50251019 0.49219611 0.48262843 0.47451508\n",
            " 0.46795925 0.46265081 0.45820692 0.45433596 0.45085174 0.44764027\n",
            " 0.44463092 0.4417803  0.43906599 0.43648067 0.43402782 0.43171558\n",
            " 0.42955229 0.42754328 0.4256888  0.42398357 0.42241704 0.42097399\n",
            " 0.4196364  0.41838425]\n",
            "29 day output [[0.41719723]]\n",
            "[[0.6066755056381226], [0.5735790133476257], [0.5440347790718079], [0.5251922011375427], [0.5129916071891785], [0.5025101900100708], [0.49219611287117004], [0.4826284348964691], [0.47451508045196533], [0.4679592549800873], [0.4626508057117462], [0.4582069218158722], [0.4543359577655792], [0.4508517384529114], [0.4476402699947357], [0.4446309208869934], [0.44178029894828796], [0.43906599283218384], [0.43648067116737366], [0.4340278208255768], [0.43171557784080505], [0.429552286863327], [0.4275432825088501], [0.42568880319595337], [0.4239835739135742], [0.4224170446395874], [0.4209739863872528], [0.41963639855384827], [0.41838425397872925], [0.41719722747802734]]\n"
          ]
        }
      ],
      "metadata": {
        "colab": {
          "base_uri": "https://localhost:8080/"
        },
        "id": "A2VbV09GoS6l",
        "outputId": "c2f5a5a8-4893-4002-8c60-39f6ce5f19d3"
      }
    },
    {
      "cell_type": "code",
      "execution_count": 103,
      "source": [
        "New_Day = np.arange(1,201)\r\n",
        "Pred_Day = np.arange(201, 231)"
      ],
      "outputs": [],
      "metadata": {
        "id": "rlTDMI2IpSCv"
      }
    },
    {
      "cell_type": "code",
      "execution_count": 104,
      "source": [
        "len(df_Close)"
      ],
      "outputs": [
        {
          "output_type": "execute_result",
          "data": {
            "text/plain": [
              "2035"
            ]
          },
          "metadata": {},
          "execution_count": 104
        }
      ],
      "metadata": {
        "colab": {
          "base_uri": "https://localhost:8080/"
        },
        "id": "JKwKfsHowBOa",
        "outputId": "c95c4d34-88ba-47f4-a7f7-f0388b64d3b6"
      }
    },
    {
      "cell_type": "code",
      "execution_count": 105,
      "source": [
        "plt.plot(New_Day, scaler.inverse_transform(df_Close[1835:]))    ## 2035-200 = 1835\r\n",
        "plt.plot(Pred_Day, scaler.inverse_transform(output))"
      ],
      "outputs": [
        {
          "output_type": "execute_result",
          "data": {
            "text/plain": [
              "[<matplotlib.lines.Line2D at 0x7f5c42887750>]"
            ]
          },
          "metadata": {},
          "execution_count": 105
        },
        {
          "output_type": "display_data",
          "data": {
            "image/png": "[encoded data removed]",
            "text/plain": [
              "<Figure size 432x288 with 1 Axes>"
            ]
          },
          "metadata": {}
        }
      ],
      "metadata": {
        "colab": {
          "base_uri": "https://localhost:8080/",
          "height": 282
        },
        "id": "MHEGDHPXvzEP",
        "outputId": "05f68b03-5295-4226-9b69-00cb83238751"
      }
    },
    {
      "cell_type": "markdown",
      "source": [
        "- Here we can see that this Particular Stock is going to face a **Major Loss** in the next 30 Days."
      ],
      "metadata": {
        "id": "_NdK3ElrvyfS"
      }
    },
    {
      "cell_type": "code",
      "execution_count": null,
      "source": [],
      "outputs": [],
      "metadata": {
        "id": "BLj5HNxH0A4V"
      }
    },
    {
      "cell_type": "code",
      "execution_count": null,
      "source": [],
      "outputs": [],
      "metadata": {}
    }
  ]
}